{
 "cells": [
  {
   "cell_type": "markdown",
   "metadata": {},
   "source": [
    "## Interpreting Main Effects and Significance"
   ]
  },
  {
   "cell_type": "markdown",
   "metadata": {},
   "source": [
    "### Regression Notation (OLS)\n",
    "- The following notation for Ordinary Least Squares Regression (OLS) applies to a regression models for entire populations with k independent variables.\n",
    "- These are ideal models that you will obtain if you could measure the entire population.\n",
    "\n",
    "$Y = \\beta_0 + \\beta_1 X_1 + .... + \\beta_k X_k + \\epsilon$\n",
    "\n",
    "In this notation:\n",
    "- Y represents the dependent variable\n",
    "- The beta ($\\beta$) represents the true population parameters. $\\beta_0$ is the constant while the other betas are for independent variables.\n",
    "- $X$'s are the independent variables.\n",
    "- Epsilon ($\\epsilon$) represents the error, which is the left-over random portion of variability that the model can't explain.\n",
    "\n",
    "- We never work with the entire population. Instead we use samples to estimate the population parameters. The notation for Regression model based on the sample is the following:\n",
    "\n",
    "$\\hat{y} = \\hat{\\beta_0} + \\hat{\\beta_1} X_1 + .... + \\hat{\\beta_k} X_k +\\hat{\\epsilon}$\n",
    "\n",
    "In this notation - The hats represents the sample estimates of the population values.\n",
    "- $\\hat{y}$ - represents the fittted value for the dependent variable. When we enter the values for the independent variable into the regression equation, we obtain the fitted value of the dependent variable.\n",
    "- $\\hat{\\beta}$ - the beta hats represent the estimates of population parameters. These estimates are the `regression coefficients` that appear in your output.\n",
    "- $\\hat{\\epsilon}$ - the epsilon hat represents the estimate of the error or what we call `residuals`."
   ]
  },
  {
   "cell_type": "markdown",
   "metadata": {},
   "source": [
    "### Three types of Effects in Regression Models.\n"
   ]
  }
 ],
 "metadata": {
  "language_info": {
   "name": "python"
  },
  "orig_nbformat": 4
 },
 "nbformat": 4,
 "nbformat_minor": 2
}

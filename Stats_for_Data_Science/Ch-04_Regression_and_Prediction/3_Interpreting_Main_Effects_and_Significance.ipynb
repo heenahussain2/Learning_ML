{
 "cells": [
  {
   "cell_type": "markdown",
   "metadata": {},
   "source": [
    "## Interpreting Main Effects and Significance"
   ]
  },
  {
   "cell_type": "markdown",
   "metadata": {},
   "source": [
    "### Regression Notation (OLS)\n",
    "- The following notation for Ordinary Least Squares Regression (OLS) applies to a regression models for entire populations with k independent variables.\n",
    "- These are ideal models that you will obtain if you could measure the entire population.\n",
    "\n",
    "$Y = \\beta_0 + \\beta_1 X_1 + .... + \\beta_k X_k + \\epsilon$\n",
    "\n",
    "In this notation:\n",
    "- Y represents the dependent variable\n",
    "- The beta ($\\beta$) represents the true population parameters. $\\beta_0$ is the constant while the other betas are for independent variables.\n",
    "- $X$'s are the independent variables.\n",
    "- Epsilon ($\\epsilon$) represents the error, which is the left-over random portion of variability that the model can't explain.\n",
    "\n",
    "- We never work with the entire population. Instead we use samples to estimate the population parameters. The notation for Regression model based on the sample is the following:\n",
    "\n",
    "$\\hat{y} = \\hat{\\beta_0} + \\hat{\\beta_1} X_1 + .... + \\hat{\\beta_k} X_k +\\hat{\\epsilon}$\n",
    "\n",
    "In this notation - The hats represents the sample estimates of the population values.\n",
    "- $\\hat{y}$ - represents the fittted value for the dependent variable. When we enter the values for the independent variable into the regression equation, we obtain the fitted value of the dependent variable.\n",
    "- $\\hat{\\beta}$ - the beta hats represent the estimates of population parameters. These estimates are the `regression coefficients` that appear in your output.\n",
    "- $\\hat{\\epsilon}$ - the epsilon hat represents the estimate of the error or what we call `residuals`."
   ]
  },
  {
   "cell_type": "markdown",
   "metadata": {},
   "source": [
    "### Three types of Effects in Regression Models.\n",
    "- **Main Effects** - The relationship between an independent variable and the dependent variable does not depend on the value of other variables in the model.\n",
    "\n",
    "- **Curvilinear Effects** - The relationship between the dependent and independent variable changes based on the value of that independent variable itself. Instead of following a straight line on a graph , these relationship follow curves.\n",
    "\n",
    "- **Interaction Effects** - The relationship between an independent variable and the dependent variable depends on the value of atleast one other independent variable in the model.\n",
    "\n",
    "- For main and interaction effects, the interpretation differs for continuous versus categorical variables. \n",
    "- On the other hand, curved relationships can exist only for continuous data."
   ]
  },
  {
   "cell_type": "markdown",
   "metadata": {},
   "source": [
    "### Main Effects of Continuous Variables\n",
    "- Main effects for continuous variables are the most common type of relationship in regression models. \n",
    "- For ex we have two independent variables A and B:\n",
    "    - Both the variables are statistically significant, and the model provides a good fit for the data.\n",
    "    - In this scenario it can be concluded that the effect of variable A on the dependent variable(output) doesnot change due to change in values of variable B.\n",
    "    - Also variable A's effect is consistent throughout the range of values for A.\n",
    "    - The same applies to the effect of variable B - It doesnot depend on A, and it remains consistent.\n",
    "    \n",
    "\n",
    "- Coefficients and p values in regression analysis helps to understand which relationships in the model are statistically significant and the nature of those relationships.\n",
    "- The coefficients represent a variable's effect and describe the magnitude and direction of the relationship between each independent variable.\n",
    "- Coefficients are numbers in the regression equation that multiply the values of the variables(slope or m).\n",
    "- The p-values for the coefficients indicate whether these relationships are statistically significant.\n",
    "- The sign of a regression coefficient tells whether the value of dependent variable increases or decreases with change in each independent variable. In other words +ve coefficient means as the value of independent variable increases, the mean for the dependent variables also increases.\n",
    "- A -ve coeffcient means a decrease in mean of independent variable with the increase in value of the dependent variable(inverse relationship).\n",
    "- The coefficent value signifies how much the mean value of dependent variable changes with a unit increase in independet variable, while keeping all the other variables constant."
   ]
  },
  {
   "cell_type": "markdown",
   "metadata": {},
   "source": [
    "### Confidence Intervals for Regression Parameters\n",
    "- If we collect a random sample and calculate the mean, the sample mean is the point estimate for population mean.\n",
    "- We will never know the exact value if the population parameter because we will only work with samples.(Not possible to collect population data).\n",
    "- The point estimate doesn't indicate how far from the population parameter it is likely to be.\n",
    "- For this we can calculate the confidence intervals for population parameters.\n",
    "- A `confidence interval` is dervided from a sample and provides a range of values that likely contains the unknown value of population parameter.\n",
    "- Different random samples drawn from the population are likely to produce slightly different intervals.\n",
    "- If we draw many random samples and calculate confidence interval for each sample, a specific proportion of the ranges contains the population parameter. That percentage is the `confidence level`.\n",
    "- For ex - A 95% confidence level suggests that if you draw 20 random samples from the sample population, you'd expect 19 of the confidence intervals to include the population value."
   ]
  },
  {
   "cell_type": "markdown",
   "metadata": {},
   "source": [
    "- The confidence interval provides meaningful estimates because it produces ranges that usually contains the parameter.\n",
    "- We can also see how far our point estimate is likely to be from the parameter value.\n",
    "- In the regression context, we use the sample to calculate the regression coefficients ($\\beta$ hats) which are the point estimates of the population parameters($\\beta$ s).\n",
    "- In the example below the sample estimate of the height coefficient is 106.5. But if we collect multiple samples of the same population, each sample will have its own estimate of the height coefficent. \n",
    "- We won't know the real value or how close to the actual population is our estimate likely to be.\n",
    "- For this we calculate the confidence interval for the regression coefficients as is shown in the cells below.\n"
   ]
  },
  {
   "cell_type": "code",
   "execution_count": 2,
   "metadata": {},
   "outputs": [],
   "source": [
    "## import libraries\n",
    "import pandas as pd\n",
    "import numpy as np\n",
    "import statsmodels.api as sm\n",
    "import matplotlib.pyplot as plt"
   ]
  },
  {
   "cell_type": "code",
   "execution_count": 3,
   "metadata": {},
   "outputs": [
    {
     "data": {
      "text/html": [
       "<div>\n",
       "<style scoped>\n",
       "    .dataframe tbody tr th:only-of-type {\n",
       "        vertical-align: middle;\n",
       "    }\n",
       "\n",
       "    .dataframe tbody tr th {\n",
       "        vertical-align: top;\n",
       "    }\n",
       "\n",
       "    .dataframe thead th {\n",
       "        text-align: right;\n",
       "    }\n",
       "</style>\n",
       "<table border=\"1\" class=\"dataframe\">\n",
       "  <thead>\n",
       "    <tr style=\"text-align: right;\">\n",
       "      <th></th>\n",
       "      <th>Height M</th>\n",
       "      <th>Weight kg</th>\n",
       "    </tr>\n",
       "  </thead>\n",
       "  <tbody>\n",
       "    <tr>\n",
       "      <th>0</th>\n",
       "      <td>1.60020</td>\n",
       "      <td>49.441572</td>\n",
       "    </tr>\n",
       "    <tr>\n",
       "      <th>1</th>\n",
       "      <td>1.65100</td>\n",
       "      <td>62.595751</td>\n",
       "    </tr>\n",
       "    <tr>\n",
       "      <th>2</th>\n",
       "      <td>1.65100</td>\n",
       "      <td>75.749931</td>\n",
       "    </tr>\n",
       "    <tr>\n",
       "      <th>3</th>\n",
       "      <td>1.53035</td>\n",
       "      <td>48.987979</td>\n",
       "    </tr>\n",
       "    <tr>\n",
       "      <th>4</th>\n",
       "      <td>1.45415</td>\n",
       "      <td>43.091278</td>\n",
       "    </tr>\n",
       "  </tbody>\n",
       "</table>\n",
       "</div>"
      ],
      "text/plain": [
       "   Height M  Weight kg\n",
       "0   1.60020  49.441572\n",
       "1   1.65100  62.595751\n",
       "2   1.65100  75.749931\n",
       "3   1.53035  48.987979\n",
       "4   1.45415  43.091278"
      ]
     },
     "execution_count": 3,
     "metadata": {},
     "output_type": "execute_result"
    }
   ],
   "source": [
    "## 1. Read the file and create a Data Frame\n",
    "height_weight_df = pd.read_csv(\"../../datasets/RegressionAnalysisDatasets/HeightWeight.csv\")\n",
    "height_weight_df.head()"
   ]
  },
  {
   "cell_type": "code",
   "execution_count": 4,
   "metadata": {},
   "outputs": [
    {
     "data": {
      "text/html": [
       "<table class=\"simpletable\">\n",
       "<caption>OLS Regression Results</caption>\n",
       "<tr>\n",
       "  <th>Dep. Variable:</th>        <td>Weight kg</td>    <th>  R-squared:         </th> <td>   0.497</td>\n",
       "</tr>\n",
       "<tr>\n",
       "  <th>Model:</th>                   <td>OLS</td>       <th>  Adj. R-squared:    </th> <td>   0.491</td>\n",
       "</tr>\n",
       "<tr>\n",
       "  <th>Method:</th>             <td>Least Squares</td>  <th>  F-statistic:       </th> <td>   85.03</td>\n",
       "</tr>\n",
       "<tr>\n",
       "  <th>Date:</th>             <td>Sun, 03 Sep 2023</td> <th>  Prob (F-statistic):</th> <td>1.74e-14</td>\n",
       "</tr>\n",
       "<tr>\n",
       "  <th>Time:</th>                 <td>10:47:17</td>     <th>  Log-Likelihood:    </th> <td> -305.70</td>\n",
       "</tr>\n",
       "<tr>\n",
       "  <th>No. Observations:</th>      <td>    88</td>      <th>  AIC:               </th> <td>   615.4</td>\n",
       "</tr>\n",
       "<tr>\n",
       "  <th>Df Residuals:</th>          <td>    86</td>      <th>  BIC:               </th> <td>   620.4</td>\n",
       "</tr>\n",
       "<tr>\n",
       "  <th>Df Model:</th>              <td>     1</td>      <th>                     </th>     <td> </td>   \n",
       "</tr>\n",
       "<tr>\n",
       "  <th>Covariance Type:</th>      <td>nonrobust</td>    <th>                     </th>     <td> </td>   \n",
       "</tr>\n",
       "</table>\n",
       "<table class=\"simpletable\">\n",
       "<tr>\n",
       "      <td></td>        <th>coef</th>     <th>std err</th>      <th>t</th>      <th>P>|t|</th>  <th>[0.025</th>    <th>0.975]</th>  \n",
       "</tr>\n",
       "<tr>\n",
       "  <th>const</th>    <td> -114.3259</td> <td>   17.443</td> <td>   -6.554</td> <td> 0.000</td> <td> -149.001</td> <td>  -79.651</td>\n",
       "</tr>\n",
       "<tr>\n",
       "  <th>Height M</th> <td>  106.5046</td> <td>   11.550</td> <td>    9.221</td> <td> 0.000</td> <td>   83.544</td> <td>  129.465</td>\n",
       "</tr>\n",
       "</table>\n",
       "<table class=\"simpletable\">\n",
       "<tr>\n",
       "  <th>Omnibus:</th>       <td> 7.927</td> <th>  Durbin-Watson:     </th> <td>   1.176</td>\n",
       "</tr>\n",
       "<tr>\n",
       "  <th>Prob(Omnibus):</th> <td> 0.019</td> <th>  Jarque-Bera (JB):  </th> <td>   7.925</td>\n",
       "</tr>\n",
       "<tr>\n",
       "  <th>Skew:</th>          <td> 0.733</td> <th>  Prob(JB):          </th> <td>  0.0190</td>\n",
       "</tr>\n",
       "<tr>\n",
       "  <th>Kurtosis:</th>      <td> 3.119</td> <th>  Cond. No.          </th> <td>    45.0</td>\n",
       "</tr>\n",
       "</table><br/><br/>Notes:<br/>[1] Standard Errors assume that the covariance matrix of the errors is correctly specified."
      ],
      "text/plain": [
       "<class 'statsmodels.iolib.summary.Summary'>\n",
       "\"\"\"\n",
       "                            OLS Regression Results                            \n",
       "==============================================================================\n",
       "Dep. Variable:              Weight kg   R-squared:                       0.497\n",
       "Model:                            OLS   Adj. R-squared:                  0.491\n",
       "Method:                 Least Squares   F-statistic:                     85.03\n",
       "Date:                Sun, 03 Sep 2023   Prob (F-statistic):           1.74e-14\n",
       "Time:                        10:47:17   Log-Likelihood:                -305.70\n",
       "No. Observations:                  88   AIC:                             615.4\n",
       "Df Residuals:                      86   BIC:                             620.4\n",
       "Df Model:                           1                                         \n",
       "Covariance Type:            nonrobust                                         \n",
       "==============================================================================\n",
       "                 coef    std err          t      P>|t|      [0.025      0.975]\n",
       "------------------------------------------------------------------------------\n",
       "const       -114.3259     17.443     -6.554      0.000    -149.001     -79.651\n",
       "Height M     106.5046     11.550      9.221      0.000      83.544     129.465\n",
       "==============================================================================\n",
       "Omnibus:                        7.927   Durbin-Watson:                   1.176\n",
       "Prob(Omnibus):                  0.019   Jarque-Bera (JB):                7.925\n",
       "Skew:                           0.733   Prob(JB):                       0.0190\n",
       "Kurtosis:                       3.119   Cond. No.                         45.0\n",
       "==============================================================================\n",
       "\n",
       "Notes:\n",
       "[1] Standard Errors assume that the covariance matrix of the errors is correctly specified.\n",
       "\"\"\""
      ]
     },
     "execution_count": 4,
     "metadata": {},
     "output_type": "execute_result"
    }
   ],
   "source": [
    "## 2. Define predictor and response variables\n",
    "\n",
    "x = height_weight_df[\"Height M\"] ## Independent or predictor Variable\n",
    "y = height_weight_df[\"Weight kg\"] ## Dependent or response variable\n",
    "\n",
    "## 3. Add constant to predictor variables\n",
    "ols_model = sm.OLS(y, x).fit()\n",
    "x = sm.add_constant(x)\n",
    "\n",
    "## 4. Fit Linear Regression Model\n",
    "ols_model = sm.OLS(y, x).fit()\n",
    "\n",
    "## 5. View model summary\n",
    "ols_model.summary()"
   ]
  },
  {
   "cell_type": "code",
   "execution_count": 8,
   "metadata": {},
   "outputs": [
    {
     "data": {
      "text/html": [
       "<div>\n",
       "<style scoped>\n",
       "    .dataframe tbody tr th:only-of-type {\n",
       "        vertical-align: middle;\n",
       "    }\n",
       "\n",
       "    .dataframe tbody tr th {\n",
       "        vertical-align: top;\n",
       "    }\n",
       "\n",
       "    .dataframe thead th {\n",
       "        text-align: right;\n",
       "    }\n",
       "</style>\n",
       "<table border=\"1\" class=\"dataframe\">\n",
       "  <thead>\n",
       "    <tr style=\"text-align: right;\">\n",
       "      <th></th>\n",
       "      <th>0</th>\n",
       "      <th>1</th>\n",
       "    </tr>\n",
       "  </thead>\n",
       "  <tbody>\n",
       "    <tr>\n",
       "      <th>const</th>\n",
       "      <td>-149.000505</td>\n",
       "      <td>-79.651360</td>\n",
       "    </tr>\n",
       "    <tr>\n",
       "      <th>Height M</th>\n",
       "      <td>83.543896</td>\n",
       "      <td>129.465213</td>\n",
       "    </tr>\n",
       "  </tbody>\n",
       "</table>\n",
       "</div>"
      ],
      "text/plain": [
       "                   0           1\n",
       "const    -149.000505  -79.651360\n",
       "Height M   83.543896  129.465213"
      ]
     },
     "execution_count": 8,
     "metadata": {},
     "output_type": "execute_result"
    }
   ],
   "source": [
    "## Get the confidence interval of the fitted parameters\n",
    "# for reference https://www.statsmodels.org/dev/generated/statsmodels.regression.linear_model.OLSResults.conf_int.html\n",
    "ols_model.conf_int(alpha=0.05, cols=None)\n",
    "\n",
    "# NOTE: The confidence interval is based on Student's t distribution"
   ]
  },
  {
   "cell_type": "markdown",
   "metadata": {},
   "source": [
    "- From the above confidence interval we can be 95% confident that the actual population value for the height coefficient is between \n",
    "83.5 and 129.5\n",
    "- The width of a confidence interval reveals the precision of the estimate.\n",
    "- Narrower ranges suggest a more precise estimate.\n",
    "- We can evaluate precision by calculating confidence intervals.\n",
    "- If we add more variables to the model and these confidence intervals become wider, then there is a problem because the additional variables reduce the model's precision."
   ]
  },
  {
   "cell_type": "markdown",
   "metadata": {},
   "source": [
    "### Interpreting p-values for Continuous Independent Variables\n",
    "- Regression Analysis is a form of inferential statistics, where we use a sample to draw conclusions about an entire population.\n",
    "- Sample errors can produce effects in the sample that don't exist in the population.\n",
    "- p-values and significance levels help determine whether the observed relationship in the sample also exist in the larger population.\n",
    "- The p-value for each independent variable tests the null hypothesis that there is no relationship with the dependent variable.\n",
    "- If there is no relationship, then there is no association between the changes in the independent variable and the shifts in the dependent variable.  \n",
    "\n",
    "- The hypothesis for the independent variables are following:  \n",
    "    - **Null Hypothesis** - The coefficient for the independent variable equals zero (there is no relationship) or (p-value > significance level)  \n",
    "\n",
    "    - **Alternative Hypothesis**  - The coefficient for the independent variable doesnot equal zero (there is a relationship) or (p-value < significance level)\n",
    "\n",
    "- If the `p-value` for a variable is less than the significance level, the sample data provides enough evidence to reject the null hypothesis for the entire population.\n",
    "- This means changes in the independent variable are associated with the changes in response at the population level.\n",
    "- The variable is statistically significant and can be included in the regression model. Significance level of 0.05 are the most common value.\n",
    "- If the p-value is greater than significance level, that means there is not enough eveidence in the sample to reject that there is zero correlation and the coeficient doesn't equal to zero.\n",
    "\n",
    "#### Note:\n",
    " - For a refresher on p-values refer to correlation and regression notebook, also go through below videos and exercises.\n",
    "  https://www.khanacademy.org/math/ap-statistics/xfb5d8e68:inference-categorical-proportions/idea-significance-tests/v/p-values-and-significance-tests"
   ]
  },
  {
   "cell_type": "markdown",
   "metadata": {},
   "source": [
    "### Recoding Continuous Independent Variables\n",
    "- Recoding involves taking original values and mathematically converting them to other values.\n",
    "- While the recoding methods can cause you to interpret some of the results differently, the p-values and goodness-of-fit measures will remmain the same when you fit the same model.\n",
    "- Two common coding methods are 1. Standardization 2. Centering.\n",
    "\n",
    "#### Standardizing the Continuous Variables\n",
    "- To standardize a variable:\n",
    "    - Take each observed value for a variable.\n",
    "    - Subtract the variable's mean.\n",
    "    - Then divide by the variable's standard deviation.\n",
    "- When we standardize a variable, the coded value denotes where the observation falls in the distribution of values.\n",
    "- It indicates the number of standard deviation above or below the variable's mean.\n",
    "- The sign indicates whether the observations are above or below the mean and the number indicates thr number of standard deviations.\n",
    "- Standardized values of 0 indicates that the value is precisely equal to the mean.\n",
    "\n",
    "#### Interpreting Standardized Coefficients\n",
    "- When we fit a model using standardized independent variables, the coefficients are now standardized coefficients.\n",
    "- Standardized coefficients signify the mean change of the dependent variable given a one standard deviation increase in an independent variable.\n",
    "\n",
    "#### Why obtain Standardized Coefficients?\n",
    "- Standardization puts all the variables on the same scale so we can compare the magnitude of the results.\n",
    "- It is used when independent variables have entirely different units like temp(C) and thickness(cm) or it doesn't have any specified units at all like a scale(from 1 to ..).\n",
    "- Standardization puts all the variables on a consistant scale, which allows us to compare the standardized coefficients."
   ]
  },
  {
   "cell_type": "markdown",
   "metadata": {},
   "source": [
    "### Main Effects of Categorical Variables\n",
    "- Categorical variables, also known as nominal variables, have values that can be put into a countable number of distinct groups based on a characteristic.\n",
    "- For categorical variables we have the variable name and then the level of the variables.\n",
    "- In categorical variables we are dealing with groups of data that we cannot incrementally increase, and therefore it cannot be plotted using a scatterplot.\n",
    "- The levels of variables represent groups in the data and can be plotted using boxplots or barcharts.\n",
    "- Regression analysis estimates mean differences between these groups and determines if they are statistically significant.\n",
    "- Including categorical variables in the regression model allows us to determine, whether the differences in the graph are statistically significant.\n",
    "\n",
    "#### Coding Categorical Variables\n",
    "- To analyze categorical variables, they are converted into indicator variables, also known as dummy variables.\n",
    "- They are columns of 1's and 0's that indicate the presence or absence of a characteristic.\n",
    "- 1 indicates the presence while a 0 represents its absence. \n",
    "- The number of indicator variables depend on the number of categorical levels(or type of categories)."
   ]
  },
  {
   "cell_type": "markdown",
   "metadata": {},
   "source": [
    "- The below table shows the indicator variables created for each level of Gender categorical variable.\n",
    "\n",
    "| Gender | Male | Female |\n",
    "|--------|------|--------| \n",
    "| Male   | 1    | 0      |\n",
    "| Female | 0    | 1      |\n",
    "| Female | 0    | 1      |\n",
    "| Male   | 1    | 0      |\n",
    "\n",
    "- In the table, the Gender column represents the categorical data that we enter into the worksheet.\n",
    "- The value depends on the gender of the subject for which the row corresponds.\n",
    "- The ***Male*** and ***Female*** columns are the ***indicator variables*** based on the gender column.\n",
    "- The Male column contains 1's for observations that correspond to males and 0s for non-males. The same applies to the Female column.\n",
    "- These two columns supply completely redundant information, because one column can predict the other one perfectly.\n",
    "- This is referred to as perfect **multicolinearity**, which will create an error if we enter both the indicator variables in a regression model.\n",
    "- For a categorical variable we must omit one of the underlying indicator variables from the model, which becomes the **reference level**."
   ]
  },
  {
   "cell_type": "markdown",
   "metadata": {},
   "source": [
    "- The below table shows the variable College Major which has 3 levels.\n",
    "\n",
    "| College Major     | Psychology | Political Science | Statistics |\n",
    "|-------------------|------------|-------------------|------------|\n",
    "| Statistics        | 0          | 0                 | 1          |\n",
    "| Psychology        | 1          | 0                 | 0          |\n",
    "| Statistics        | 0          | 0                 | 1          |\n",
    "| Political Science | 0          | 1                 | 0          |\n",
    "| Psychology        | 1          | 0                 | 0          |\n",
    "\n",
    "- In this table, **College Major** is the categorical variable and other columns are indicator variables.\n",
    "- For each row there is a single value of 1, others are 0.\n",
    "- As with the Gender variable if we include all the indicator variables, we are supplying redundant information which will result in error in the model.\n",
    "- If we take any two columns, we can always figure out the value of the third column.\n",
    "- To perform regression analysis we will have to remove one indicator variable, that becomes the reference level. "
   ]
  },
  {
   "cell_type": "markdown",
   "metadata": {},
   "source": [
    "#### Summary for Coding Categorical Variables\n",
    "- For all categorical we must remove one level from the analysis and use it as a reference level.\n",
    "- But when we remove one indicator variable, we are altering the data that is being used for fitting the model.\n",
    "- This can change the coefficient and p-values, however using a different reference level does not change the overall story and statistical significance.\n",
    "- If the variable has a natural baseline or a category for comparison, using that level as the reference level will make the interpretation more natural."
   ]
  },
  {
   "cell_type": "markdown",
   "metadata": {},
   "source": [
    "#### Interpreting the Results for Categorical Variables\n",
    "- "
   ]
  }
 ],
 "metadata": {
  "kernelspec": {
   "display_name": "ml_env",
   "language": "python",
   "name": "python3"
  },
  "language_info": {
   "codemirror_mode": {
    "name": "ipython",
    "version": 3
   },
   "file_extension": ".py",
   "mimetype": "text/x-python",
   "name": "python",
   "nbconvert_exporter": "python",
   "pygments_lexer": "ipython3",
   "version": "3.10.11"
  },
  "orig_nbformat": 4
 },
 "nbformat": 4,
 "nbformat_minor": 2
}

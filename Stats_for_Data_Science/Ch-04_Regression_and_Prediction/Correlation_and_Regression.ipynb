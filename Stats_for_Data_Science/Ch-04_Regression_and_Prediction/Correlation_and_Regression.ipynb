{
 "cells": [
  {
   "cell_type": "markdown",
   "metadata": {},
   "source": [
    "## Correlation\n",
    "- A correlation between variables shows that as one variable changes in value, the other variable tends to change in a specific direction.\n",
    "- We can use the value of one variable to predict the value of other variable.\n",
    "- In statistics, correlation is a quantitative assesment that measures both the direction (+ve or -ve correlation) and the strength of this tendency to vary together."
   ]
  },
  {
   "cell_type": "markdown",
   "metadata": {},
   "source": [
    "### Graph Data to find Correlations\n",
    "- Scatterplots are a great way to check for relationsships between pairs of continuous data."
   ]
  },
  {
   "cell_type": "code",
   "execution_count": 4,
   "metadata": {},
   "outputs": [],
   "source": [
    "## package imports\n",
    "import pandas as pd\n",
    "# import seaborn as sns\n",
    "import matplotlib.pyplot as plt\n",
    "# import plotly.express as px"
   ]
  },
  {
   "cell_type": "code",
   "execution_count": 3,
   "metadata": {},
   "outputs": [
    {
     "data": {
      "text/html": [
       "<div>\n",
       "<style scoped>\n",
       "    .dataframe tbody tr th:only-of-type {\n",
       "        vertical-align: middle;\n",
       "    }\n",
       "\n",
       "    .dataframe tbody tr th {\n",
       "        vertical-align: top;\n",
       "    }\n",
       "\n",
       "    .dataframe thead th {\n",
       "        text-align: right;\n",
       "    }\n",
       "</style>\n",
       "<table border=\"1\" class=\"dataframe\">\n",
       "  <thead>\n",
       "    <tr style=\"text-align: right;\">\n",
       "      <th></th>\n",
       "      <th>Height M</th>\n",
       "      <th>Weight kg</th>\n",
       "    </tr>\n",
       "  </thead>\n",
       "  <tbody>\n",
       "    <tr>\n",
       "      <th>0</th>\n",
       "      <td>1.60020</td>\n",
       "      <td>49.441572</td>\n",
       "    </tr>\n",
       "    <tr>\n",
       "      <th>1</th>\n",
       "      <td>1.65100</td>\n",
       "      <td>62.595751</td>\n",
       "    </tr>\n",
       "    <tr>\n",
       "      <th>2</th>\n",
       "      <td>1.65100</td>\n",
       "      <td>75.749931</td>\n",
       "    </tr>\n",
       "    <tr>\n",
       "      <th>3</th>\n",
       "      <td>1.53035</td>\n",
       "      <td>48.987979</td>\n",
       "    </tr>\n",
       "    <tr>\n",
       "      <th>4</th>\n",
       "      <td>1.45415</td>\n",
       "      <td>43.091278</td>\n",
       "    </tr>\n",
       "  </tbody>\n",
       "</table>\n",
       "</div>"
      ],
      "text/plain": [
       "   Height M  Weight kg\n",
       "0   1.60020  49.441572\n",
       "1   1.65100  62.595751\n",
       "2   1.65100  75.749931\n",
       "3   1.53035  48.987979\n",
       "4   1.45415  43.091278"
      ]
     },
     "execution_count": 3,
     "metadata": {},
     "output_type": "execute_result"
    }
   ],
   "source": [
    "## Read the Dataset file\n",
    "path = \"../../datasets/RegressionAnalysisDatasets/HeightWeight.csv\"\n",
    "hw_df = pd.read_csv(path)\n",
    "hw_df.head()"
   ]
  },
  {
   "cell_type": "code",
   "execution_count": 5,
   "metadata": {},
   "outputs": [
    {
     "data": {
      "text/plain": [
       "<matplotlib.collections.PathCollection at 0x16e01756b30>"
      ]
     },
     "execution_count": 5,
     "metadata": {},
     "output_type": "execute_result"
    },
    {
     "data": {
      "image/png": "[encoded data removed]",
      "text/plain": [
       "<Figure size 640x480 with 1 Axes>"
      ]
     },
     "metadata": {},
     "output_type": "display_data"
    }
   ],
   "source": [
    "## Create a scatterplot for checking the relationship between height and weight\n",
    "plt.scatter(x=hw_df[\"Height M\"], y=hw_df[\"Weight kg\"])"
   ]
  },
  {
   "cell_type": "markdown",
   "metadata": {},
   "source": [
    "### Pearson's Correalation Coefficient\n",
    "- Pearson's correlation coefficient takes all the points in the above graph and represents them with a single summary statistic.\n",
    "- This coefficient is a single number that measures both the strength and direction of the linear relationship between two continuous variables.\n",
    "- Values can range from -1 to +1\n",
    "- Pearson's coefficient is unaffected by scaling issues.\n",
    "- It only measures linear relationships, if the data contains some other relationship the coefficient will not detect it.\n",
    "\n",
    "#### Strength\n",
    "- The greater the absolute value of the coefficient the stronger the relationship.\n",
    "- Extreme values of -1 and +1 indicate a perfect relationship, which means change in one variable is accompanied by absolute change in another variable.\n",
    "- This is not possible in real world.\n",
    "- A coefficient of 0 represents no relationship between two variables, which means change in one variable will have no effect on the value of another variable.\n",
    "\n",
    "#### Direction\n",
    "- +ve coefficients indicate that value of one varialbe increases, the value of other variable also tends to increase.\n",
    "- -ve coefficients indicate that when the value of one variable increases, the value of other valriable tends to decrease. It produces a downward slope."
   ]
  },
  {
   "cell_type": "markdown",
   "metadata": {},
   "source": [
    "### Hypothesis Tests for Correlations\n",
    "- Null Hypothesis - There is no linear relationship between the two variables p = 0\n",
    "- Alternative Hypothesis - There is a linear relationship between the two variables.\n",
    "\n",
    "- If the p-value is less than the significance level, the sample contains sufficient evidence to reject the null hypothesis and conclude that the correlation doesnot equal 0.\n",
    "\n",
    "- Futher Reading - https://www.khanacademy.org/math/ap-statistics/xfb5d8e68:inference-categorical-proportions/idea-significance-tests/v/p-values-and-significance-tests"
   ]
  },
  {
   "cell_type": "markdown",
   "metadata": {},
   "source": [
    "## Fundamental Terms and Goals of Regression\n",
    "Below are the definitions of some common terms used in regression  \n",
    "- Dependent Variables :     \n",
    "        -> The dependent variable is a variable that you want to explain or predict using the model.  \n",
    "        -> The values of this variable depends on other variables.  \n",
    "        -> It is also known as the response variable.  \n",
    "        -> Commonly denoted using Y and is placed on Y-axis.  \n",
    "\n",
    "- Independent Variables :  \n",
    "        -> The independent varialbes are the variables that are included in the model to predict the dependent variables.  \n",
    "        -> These are known as predictor variables.  \n",
    "        -> commonly denoted using X and is placed on X-axis on a graph.  \n",
    "\n",
    "- Simple v/s Multiple Regression :  -> If we include only one variable in regression analysis it is called simple regression.  \n",
    "                                    -> If there are multiple or more than one independent variables in the model it is called multiple regression.  "
   ]
  },
  {
   "cell_type": "markdown",
   "metadata": {},
   "source": [
    "### Goals of Regression Analysis:\n",
    "- Regression analysis mathematically describes the relationship between independent variables and a dependent variable.  \n",
    "- It has two primary goals:  \n",
    "    -> To understand the relationship between these variables, and how the changes in an independent variable affect the changes in a dependent variable.  \n",
    "    -> To predict the dependent variable by entering the values for dependent variable in the regression equation.  \n",
    "\n",
    "So basically  \n",
    "    - first understand the relationship between variables and make a regression equation.  \n",
    "    - Then use the equation to predict values for the dependent variable.  \n",
    "\n",
    "#### Use of Regression Analysis\n",
    "- Model multiple independent variables.\n",
    "- Include continuous and categorical variables.\n",
    "- Model linear and curvilinear relationships.\n",
    "- Assess interaction terms ti determine whether the effect if one independent variable depends on the value of another variable.\n"
   ]
  },
  {
   "cell_type": "markdown",
   "metadata": {},
   "source": [
    "### Intro to Regression Output\n",
    "- P-values and coefficents are the key regression output. \n",
    "- Collectively these statistics indicate whether the variables are statisticcally significant.\n",
    "- Loe p-values (typically < 0.05 ) indicate that the independent variable is statistically significant.\n",
    "- The p-values help determine whether the relationships that you observe in your sample also exist in the larger population. "
   ]
  },
  {
   "cell_type": "markdown",
   "metadata": {},
   "source": []
  }
 ],
 "metadata": {
  "kernelspec": {
   "display_name": "ml_env",
   "language": "python",
   "name": "python3"
  },
  "language_info": {
   "codemirror_mode": {
    "name": "ipython",
    "version": 3
   },
   "file_extension": ".py",
   "mimetype": "text/x-python",
   "name": "python",
   "nbconvert_exporter": "python",
   "pygments_lexer": "ipython3",
   "version": "3.10.11"
  },
  "orig_nbformat": 4
 },
 "nbformat": 4,
 "nbformat_minor": 2
}

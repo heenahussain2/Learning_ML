{
 "cells": [
  {
   "cell_type": "markdown",
   "metadata": {},
   "source": [
    "## Ordinary Least squares (OLS) Regression"
   ]
  },
  {
   "cell_type": "markdown",
   "metadata": {},
   "source": [
    "### Data considerations for OLS\n",
    "- To ensure that your results are valid for OLS linear regression, consider the following principles while collecting the data, performing the analysis and interpreting the results.\n",
    "- The independent variables can either be continuous or categorical.  \n",
    "    -> Continuous variables are usually measured on a scale and can take on any numerical form including fractional and decimal values.  \n",
    "    -> Categorical variables are values that can be put into countable distinct groups based on a characteristic.\n",
    "       \n",
    "- The dependent variable should be continuous. If its not we would have to use a different kind of regression analysis. "
   ]
  },
  {
   "cell_type": "markdown",
   "metadata": {},
   "source": [
    "### How OLS fits the Best Line\n",
    "- Regression explains the variation in a dependent variable for a given set of independent variables.\n",
    "- It predicts the dependent variable(output) for a given set of independent variables(input).\n",
    "\n",
    "#### Observed and Fitted Values\n",
    "- Observed values are the values of the independent variables that are recorded during the study or experiment.\n",
    "- These values are denoted using Y.\n",
    "\n",
    "- Fitted values are the values that the model predicts for the independent variable using the independent variables.\n",
    "- If you put input values for the independent variable into the regression equation, you obtain the fitted value.\n",
    "- Predicted value and fitted value are synonyms.\n",
    "\n",
    "### Residuals (diff b/w observed and fitted values)\n",
    "- For every observed value of the dependent variable (output), the regression model calculates a corresponding fitted value.\n",
    "- To understand how well the model fits the data, we need to assess the difference between the observed values and the fitted values.\n",
    "- These differences represent the error in the model which is known as a Residual.\n",
    "\n",
    "$$\n",
    "Residual = Observed Value - Fitted Value\n",
    "$$\n",
    "- For a good model, the residuals should be relatively small and unbiased.\n",
    "- In statistics bias indicates that estimates are too high or too low. Unbiased estimates are correct on average. "
   ]
  },
  {
   "cell_type": "markdown",
   "metadata": {},
   "source": [
    "### Sum of Squared Errors(SSE) to find the Best Line\n",
    "- The goal of regression analysis is to draw a line through the data points (see the scatterplot) that minimizes the overall distance of the points from the line.\n",
    "- We can draw different potential lines. Some observations will fit the model better or worse than other points, which will vary on the line that we draw.\n",
    "- To quantify how well the line fits all the data points, OLS regression squares the residuals so they are always positive.\n",
    "- This produces squared residuals, which are called as squared errors.\n",
    "- First we obtain the residuals between observed and fitted value by subtracting them and then just square them and sum the squared errors.\n",
    "$$\n",
    "SSE = \\sum_{i=1}^n (y_i - \\hat{y_i})^2 \n",
    "$$ \n",
    "- OLS draws the line that minimizes the sum of squared errors(SSE).\n",
    "\n",
    "\n",
    "- SSE is a measure of variability. As the points spreads further from the fitted line, SSE increases.\n",
    "- So for a given data set, smaller SSE values signal that the observations fall closer to fitted values.\n",
    "- OLS minimizes this value, which means we are getting the best possible line.\n",
    "- If we draw any line other than the one OLS produces, the SSE would increase - which indicates that the distance between observed and fitted values are growing, which means the model is not good.\n",
    "    "
   ]
  },
  {
   "cell_type": "markdown",
   "metadata": {},
   "source": [
    "### Implications of Minimizing SSE\n",
    "1.  - As OLS calculates squared errors using residuals, the model fitting process ultimately ties back to the residuals very strongly.\n",
    "    - Residuals are the underlying foundations for how least squares regression fits the model and also determining how good the model is.\n",
    "\n",
    "2.  - As OLS procedure squares, it has significant ramifications, such as it becomes susceptible to outliers and unusual observations.\n",
    "    - To minimize the squared errors, OLS facotrs in the unusual observations more heavily than other data points.\n",
    "    - The result is than an individual outlier can exert a strong influence over the entire model and by itself dramatically change the results."
   ]
  },
  {
   "cell_type": "markdown",
   "metadata": {},
   "source": [
    "### Displaying a Regression model on a fitted line plot\n",
    "Below is the example in python using the `statsmodel` library and plotting the line using `matplotlib`"
   ]
  },
  {
   "cell_type": "code",
   "execution_count": 3,
   "metadata": {},
   "outputs": [],
   "source": [
    "## import libraries\n",
    "import pandas as pd\n",
    "import numpy as np\n",
    "import statsmodels.api as sm\n",
    "import matplotlib.pyplot as plt"
   ]
  },
  {
   "cell_type": "code",
   "execution_count": 4,
   "metadata": {},
   "outputs": [
    {
     "data": {
      "text/html": [
       "<div>\n",
       "<style scoped>\n",
       "    .dataframe tbody tr th:only-of-type {\n",
       "        vertical-align: middle;\n",
       "    }\n",
       "\n",
       "    .dataframe tbody tr th {\n",
       "        vertical-align: top;\n",
       "    }\n",
       "\n",
       "    .dataframe thead th {\n",
       "        text-align: right;\n",
       "    }\n",
       "</style>\n",
       "<table border=\"1\" class=\"dataframe\">\n",
       "  <thead>\n",
       "    <tr style=\"text-align: right;\">\n",
       "      <th></th>\n",
       "      <th>Height M</th>\n",
       "      <th>Weight kg</th>\n",
       "    </tr>\n",
       "  </thead>\n",
       "  <tbody>\n",
       "    <tr>\n",
       "      <th>0</th>\n",
       "      <td>1.60020</td>\n",
       "      <td>49.441572</td>\n",
       "    </tr>\n",
       "    <tr>\n",
       "      <th>1</th>\n",
       "      <td>1.65100</td>\n",
       "      <td>62.595751</td>\n",
       "    </tr>\n",
       "    <tr>\n",
       "      <th>2</th>\n",
       "      <td>1.65100</td>\n",
       "      <td>75.749931</td>\n",
       "    </tr>\n",
       "    <tr>\n",
       "      <th>3</th>\n",
       "      <td>1.53035</td>\n",
       "      <td>48.987979</td>\n",
       "    </tr>\n",
       "    <tr>\n",
       "      <th>4</th>\n",
       "      <td>1.45415</td>\n",
       "      <td>43.091278</td>\n",
       "    </tr>\n",
       "  </tbody>\n",
       "</table>\n",
       "</div>"
      ],
      "text/plain": [
       "   Height M  Weight kg\n",
       "0   1.60020  49.441572\n",
       "1   1.65100  62.595751\n",
       "2   1.65100  75.749931\n",
       "3   1.53035  48.987979\n",
       "4   1.45415  43.091278"
      ]
     },
     "execution_count": 4,
     "metadata": {},
     "output_type": "execute_result"
    }
   ],
   "source": [
    "## 1. Read the file and create a Data Frame\n",
    "height_weight_df = pd.read_csv(\"../../datasets/RegressionAnalysisDatasets/HeightWeight.csv\")\n",
    "height_weight_df.head()"
   ]
  },
  {
   "cell_type": "code",
   "execution_count": 6,
   "metadata": {},
   "outputs": [],
   "source": [
    "## 2. Define predictor and response variables\n",
    "\n",
    "x = height_weight_df[\"Height M\"] ## Independent or predictor Variable\n",
    "y = height_weight_df[\"Weight kg\"] ## Dependent or response variable\n",
    "\n",
    "## 3. Add constant to predictor variables\n",
    "x = sm.add_constant(x)"
   ]
  },
  {
   "cell_type": "code",
   "execution_count": 7,
   "metadata": {},
   "outputs": [],
   "source": [
    "## 4. Fit Linear Regression Model\n",
    "ols_model = sm.OLS(y, x).fit()"
   ]
  },
  {
   "cell_type": "code",
   "execution_count": 8,
   "metadata": {},
   "outputs": [
    {
     "data": {
      "text/html": [
       "<table class=\"simpletable\">\n",
       "<caption>OLS Regression Results</caption>\n",
       "<tr>\n",
       "  <th>Dep. Variable:</th>        <td>Weight kg</td>    <th>  R-squared:         </th> <td>   0.497</td>\n",
       "</tr>\n",
       "<tr>\n",
       "  <th>Model:</th>                   <td>OLS</td>       <th>  Adj. R-squared:    </th> <td>   0.491</td>\n",
       "</tr>\n",
       "<tr>\n",
       "  <th>Method:</th>             <td>Least Squares</td>  <th>  F-statistic:       </th> <td>   85.03</td>\n",
       "</tr>\n",
       "<tr>\n",
       "  <th>Date:</th>             <td>Tue, 29 Aug 2023</td> <th>  Prob (F-statistic):</th> <td>1.74e-14</td>\n",
       "</tr>\n",
       "<tr>\n",
       "  <th>Time:</th>                 <td>07:36:43</td>     <th>  Log-Likelihood:    </th> <td> -305.70</td>\n",
       "</tr>\n",
       "<tr>\n",
       "  <th>No. Observations:</th>      <td>    88</td>      <th>  AIC:               </th> <td>   615.4</td>\n",
       "</tr>\n",
       "<tr>\n",
       "  <th>Df Residuals:</th>          <td>    86</td>      <th>  BIC:               </th> <td>   620.4</td>\n",
       "</tr>\n",
       "<tr>\n",
       "  <th>Df Model:</th>              <td>     1</td>      <th>                     </th>     <td> </td>   \n",
       "</tr>\n",
       "<tr>\n",
       "  <th>Covariance Type:</th>      <td>nonrobust</td>    <th>                     </th>     <td> </td>   \n",
       "</tr>\n",
       "</table>\n",
       "<table class=\"simpletable\">\n",
       "<tr>\n",
       "      <td></td>        <th>coef</th>     <th>std err</th>      <th>t</th>      <th>P>|t|</th>  <th>[0.025</th>    <th>0.975]</th>  \n",
       "</tr>\n",
       "<tr>\n",
       "  <th>const</th>    <td> -114.3259</td> <td>   17.443</td> <td>   -6.554</td> <td> 0.000</td> <td> -149.001</td> <td>  -79.651</td>\n",
       "</tr>\n",
       "<tr>\n",
       "  <th>Height M</th> <td>  106.5046</td> <td>   11.550</td> <td>    9.221</td> <td> 0.000</td> <td>   83.544</td> <td>  129.465</td>\n",
       "</tr>\n",
       "</table>\n",
       "<table class=\"simpletable\">\n",
       "<tr>\n",
       "  <th>Omnibus:</th>       <td> 7.927</td> <th>  Durbin-Watson:     </th> <td>   1.176</td>\n",
       "</tr>\n",
       "<tr>\n",
       "  <th>Prob(Omnibus):</th> <td> 0.019</td> <th>  Jarque-Bera (JB):  </th> <td>   7.925</td>\n",
       "</tr>\n",
       "<tr>\n",
       "  <th>Skew:</th>          <td> 0.733</td> <th>  Prob(JB):          </th> <td>  0.0190</td>\n",
       "</tr>\n",
       "<tr>\n",
       "  <th>Kurtosis:</th>      <td> 3.119</td> <th>  Cond. No.          </th> <td>    45.0</td>\n",
       "</tr>\n",
       "</table><br/><br/>Notes:<br/>[1] Standard Errors assume that the covariance matrix of the errors is correctly specified."
      ],
      "text/plain": [
       "<class 'statsmodels.iolib.summary.Summary'>\n",
       "\"\"\"\n",
       "                            OLS Regression Results                            \n",
       "==============================================================================\n",
       "Dep. Variable:              Weight kg   R-squared:                       0.497\n",
       "Model:                            OLS   Adj. R-squared:                  0.491\n",
       "Method:                 Least Squares   F-statistic:                     85.03\n",
       "Date:                Tue, 29 Aug 2023   Prob (F-statistic):           1.74e-14\n",
       "Time:                        07:36:43   Log-Likelihood:                -305.70\n",
       "No. Observations:                  88   AIC:                             615.4\n",
       "Df Residuals:                      86   BIC:                             620.4\n",
       "Df Model:                           1                                         \n",
       "Covariance Type:            nonrobust                                         \n",
       "==============================================================================\n",
       "                 coef    std err          t      P>|t|      [0.025      0.975]\n",
       "------------------------------------------------------------------------------\n",
       "const       -114.3259     17.443     -6.554      0.000    -149.001     -79.651\n",
       "Height M     106.5046     11.550      9.221      0.000      83.544     129.465\n",
       "==============================================================================\n",
       "Omnibus:                        7.927   Durbin-Watson:                   1.176\n",
       "Prob(Omnibus):                  0.019   Jarque-Bera (JB):                7.925\n",
       "Skew:                           0.733   Prob(JB):                       0.0190\n",
       "Kurtosis:                       3.119   Cond. No.                         45.0\n",
       "==============================================================================\n",
       "\n",
       "Notes:\n",
       "[1] Standard Errors assume that the covariance matrix of the errors is correctly specified.\n",
       "\"\"\""
      ]
     },
     "execution_count": 8,
     "metadata": {},
     "output_type": "execute_result"
    }
   ],
   "source": [
    "## 5. View model summary\n",
    "ols_model.summary()"
   ]
  },
  {
   "cell_type": "code",
   "execution_count": 32,
   "metadata": {},
   "outputs": [
    {
     "name": "stdout",
     "output_type": "stream",
     "text": [
      "-114.32593252988173\n",
      "106.50455442148427\n"
     ]
    }
   ],
   "source": [
    "## get values for regression coefficient\n",
    "print()\n",
    "print()"
   ]
  },
  {
   "cell_type": "code",
   "execution_count": 35,
   "metadata": {},
   "outputs": [
    {
     "data": {
      "text/plain": [
       "[<matplotlib.lines.Line2D at 0x224584e9d20>]"
      ]
     },
     "execution_count": 35,
     "metadata": {},
     "output_type": "execute_result"
    },
    {
     "data": {
      "image/png": "[encoded data removed]",
      "text/plain": [
       "<Figure size 640x480 with 1 Axes>"
      ]
     },
     "metadata": {},
     "output_type": "display_data"
    }
   ],
   "source": [
    "## scatter plot\n",
    "plt.scatter(x=height_weight_df[\"Height M\"], y=height_weight_df[\"Weight kg\"])\n",
    "\n",
    "\n",
    "# find the line of best fit using numpy\n",
    "# m, c = np.polyfit(height_weight_df[\"Height M\"], height_weight_df[\"Weight kg\"], 1)\n",
    "# print(a, b)\n",
    "\n",
    "## Line of best fit using model\n",
    "m, c = ols_model.params[\"Height M\"],  ols_model.params[\"const\"]\n",
    "## plot the line of best fit\n",
    "\n",
    "plt.plot(height_weight_df[\"Height M\"], m * height_weight_df[\"Height M\"] + c, color=\"red\")\n",
    "# plt.scatter(height_weight_df[\"Height M\"], m * height_weight_df[\"Height M\"] + c, color=\"red\")"
   ]
  },
  {
   "cell_type": "markdown",
   "metadata": {},
   "source": [
    "### Graph Observations\n",
    "- The above graph shows all the observations with the line of best fit calculated using the regression equation.\n",
    "- The Y axis shows the dependent variable, that is Weight\n",
    "- The X axis shows the independent variable , Height\n",
    "- To get the line we put the full range of height values in the regression equation and get the predicted weight, then draw a line connecting the predicted values(weight).\n",
    "- This line is the fitted line.\n",
    "- In this example the line has a poistive slope that corresponds to the positive correlation(0.7) for this data\n",
    "- The slope of the line equals the coefficient (106.5) which is also called as regression coefficient\n",
    "- This `coefficient` indicates how much mean weight tends to increase with increase in height.\n",
    "- Each point on the fitted line represents the mean weight for a given height.\n",
    "- The distance between each data point and the line is a `residual` for that observation"
   ]
  },
  {
   "cell_type": "markdown",
   "metadata": {},
   "source": [
    "### Importance of Staying Close to your Data\n",
    "- The output values that the regression model produces , all the numerical and statistical measures can cause us to lose touch with data.\n",
    "- We can use graphs and line plots to show the following:\n",
    "    - The `regression coefficient` in the equation corresponds to the slope of the line\n",
    "    - For different models,the data points vary arounf the line to a greater or lesser extent, which reflects the precision of the predictions and goodness-of-fit statisitcs like `R-squared`.\n",
    "    - Does the fitted line fit curvature that is present in the data? NOTE - The fitted line is not always straight.\n",
    "    - Fitted Line plots make curvature unmistakable.\n",
    "\n",
    "- As good as line plots are, they can only show simple regression models which contain one independent variable.\n",
    "- Fitted line plots represent independent variable on X axis and dependent variable on Y-axis, but as the number of independent variable increases, each will require another axis or physical dimension.\n",
    "- Thus we cannot use fitted line plots for multiple regression."
   ]
  }
 ],
 "metadata": {
  "kernelspec": {
   "display_name": "ml_env",
   "language": "python",
   "name": "python3"
  },
  "language_info": {
   "codemirror_mode": {
    "name": "ipython",
    "version": 3
   },
   "file_extension": ".py",
   "mimetype": "text/x-python",
   "name": "python",
   "nbconvert_exporter": "python",
   "pygments_lexer": "ipython3",
   "version": "3.10.11"
  },
  "orig_nbformat": 4
 },
 "nbformat": 4,
 "nbformat_minor": 2
}

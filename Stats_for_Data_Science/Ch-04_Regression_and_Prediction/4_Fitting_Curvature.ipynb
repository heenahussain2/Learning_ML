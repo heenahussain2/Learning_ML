{
 "cells": [
  {
   "cell_type": "markdown",
   "metadata": {},
   "source": [
    "## Fitting Curvature"
   ]
  },
  {
   "cell_type": "markdown",
   "metadata": {},
   "source": [
    "### Overview\n",
    "- In regression analysis, curve fitting is the process of specifying the model that provides the best fit to the specific curves in the dataset.\n",
    "- Curved relationships between variables are not as straightforward to fit and interpret as linear relationships.\n",
    "- In a curved relationship, the change in the dependent variable associated with a one-unit shift in the independent variable varies based on where you start on the regression line.\n",
    "- In other words, the effect of the independent variable is not a constant value."
   ]
  },
  {
   "cell_type": "markdown",
   "metadata": {},
   "source": [
    "### Graph Curvature with Main Effects Plots\n",
    "- We can graph a curved relationship on a fitted line plot and visualize the changes when there is only one variable.\n",
    "- However when there are two or more variables(real-world), we cannot graph the data to visualize the curvature. To do this we use **Main effects Plots**.\n",
    "- The main effects plots can also be used with linear relationships, but is more useful in understanding curvilinear relationships.\n",
    "- A main effects plot can graph isolated main effects on a two dimensional plot even when the model has more than one independent variable.\n",
    "- Below is the code for defining the model and graphing main effects using the model. "
   ]
  },
  {
   "cell_type": "code",
   "execution_count": 2,
   "metadata": {},
   "outputs": [],
   "source": [
    "# import libraries\n",
    "import pandas as pd\n",
    "import numpy as np\n",
    "from statsmodels.formula.api import ols\n",
    "import matplotlib.pyplot as plt\n",
    "import seaborn as sns"
   ]
  },
  {
   "cell_type": "code",
   "execution_count": 3,
   "metadata": {},
   "outputs": [
    {
     "data": {
      "text/html": [
       "<div>\n",
       "<style scoped>\n",
       "    .dataframe tbody tr th:only-of-type {\n",
       "        vertical-align: middle;\n",
       "    }\n",
       "\n",
       "    .dataframe tbody tr th {\n",
       "        vertical-align: top;\n",
       "    }\n",
       "\n",
       "    .dataframe thead th {\n",
       "        text-align: right;\n",
       "    }\n",
       "</style>\n",
       "<table border=\"1\" class=\"dataframe\">\n",
       "  <thead>\n",
       "    <tr style=\"text-align: right;\">\n",
       "      <th></th>\n",
       "      <th>Pressure</th>\n",
       "      <th>Hardness</th>\n",
       "      <th>Temp</th>\n",
       "    </tr>\n",
       "  </thead>\n",
       "  <tbody>\n",
       "    <tr>\n",
       "      <th>0</th>\n",
       "      <td>9.5</td>\n",
       "      <td>14.814</td>\n",
       "      <td>70.610561</td>\n",
       "    </tr>\n",
       "    <tr>\n",
       "      <th>1</th>\n",
       "      <td>8.4</td>\n",
       "      <td>17.502</td>\n",
       "      <td>73.348930</td>\n",
       "    </tr>\n",
       "    <tr>\n",
       "      <th>2</th>\n",
       "      <td>9.8</td>\n",
       "      <td>14.007</td>\n",
       "      <td>66.153767</td>\n",
       "    </tr>\n",
       "    <tr>\n",
       "      <th>3</th>\n",
       "      <td>11.0</td>\n",
       "      <td>19.443</td>\n",
       "      <td>70.057809</td>\n",
       "    </tr>\n",
       "    <tr>\n",
       "      <th>4</th>\n",
       "      <td>8.3</td>\n",
       "      <td>7.573</td>\n",
       "      <td>69.339188</td>\n",
       "    </tr>\n",
       "  </tbody>\n",
       "</table>\n",
       "</div>"
      ],
      "text/plain": [
       "   Pressure  Hardness       Temp\n",
       "0       9.5    14.814  70.610561\n",
       "1       8.4    17.502  73.348930\n",
       "2       9.8    14.007  66.153767\n",
       "3      11.0    19.443  70.057809\n",
       "4       8.3     7.573  69.339188"
      ]
     },
     "execution_count": 3,
     "metadata": {},
     "output_type": "execute_result"
    }
   ],
   "source": [
    "# load the data set\n",
    "hardness_df = pd.read_csv(\"../../datasets/RegressionAnalysisDatasets/Hardness.csv\")\n",
    "\n",
    "# view the data \n",
    "hardness_df.head()"
   ]
  },
  {
   "cell_type": "code",
   "execution_count": 4,
   "metadata": {},
   "outputs": [
    {
     "data": {
      "text/plain": [
       "<seaborn.axisgrid.PairGrid at 0x1cb76191ff0>"
      ]
     },
     "execution_count": 4,
     "metadata": {},
     "output_type": "execute_result"
    },
    {
     "data": {
      "image/png": "[encoded data removed]",
      "text/plain": [
       "<Figure size 500x250 with 2 Axes>"
      ]
     },
     "metadata": {},
     "output_type": "display_data"
    }
   ],
   "source": [
    "# Plot the data for each variable and see the changes\n",
    "# Creating a pairplot to visualize all variables\n",
    "sns.pairplot(\n",
    "    hardness_df,\n",
    "    x_vars = [\"Pressure\", \"Temp\"],\n",
    "    y_vars=[\"Hardness\"]\n",
    ")\n",
    "\n",
    "# For more details on pairplots\n",
    "# https://towardsdatascience.com/visualizing-data-with-pair-plots-in-python-f228cf529166\n",
    "# https://seaborn.pydata.org/generated/seaborn.pairplot.html#seaborn.pairplot"
   ]
  },
  {
   "cell_type": "code",
   "execution_count": 5,
   "metadata": {},
   "outputs": [
    {
     "data": {
      "text/html": [
       "<table class=\"simpletable\">\n",
       "<caption>OLS Regression Results</caption>\n",
       "<tr>\n",
       "  <th>Dep. Variable:</th>        <td>Hardness</td>     <th>  R-squared:         </th> <td>   0.850</td>\n",
       "</tr>\n",
       "<tr>\n",
       "  <th>Model:</th>                   <td>OLS</td>       <th>  Adj. R-squared:    </th> <td>   0.838</td>\n",
       "</tr>\n",
       "<tr>\n",
       "  <th>Method:</th>             <td>Least Squares</td>  <th>  F-statistic:       </th> <td>   73.57</td>\n",
       "</tr>\n",
       "<tr>\n",
       "  <th>Date:</th>             <td>Sat, 07 Oct 2023</td> <th>  Prob (F-statistic):</th> <td>1.97e-11</td>\n",
       "</tr>\n",
       "<tr>\n",
       "  <th>Time:</th>                 <td>08:28:00</td>     <th>  Log-Likelihood:    </th> <td> -102.92</td>\n",
       "</tr>\n",
       "<tr>\n",
       "  <th>No. Observations:</th>      <td>    29</td>      <th>  AIC:               </th> <td>   211.8</td>\n",
       "</tr>\n",
       "<tr>\n",
       "  <th>Df Residuals:</th>          <td>    26</td>      <th>  BIC:               </th> <td>   215.9</td>\n",
       "</tr>\n",
       "<tr>\n",
       "  <th>Df Model:</th>              <td>     2</td>      <th>                     </th>     <td> </td>   \n",
       "</tr>\n",
       "<tr>\n",
       "  <th>Covariance Type:</th>      <td>nonrobust</td>    <th>                     </th>     <td> </td>   \n",
       "</tr>\n",
       "</table>\n",
       "<table class=\"simpletable\">\n",
       "<tr>\n",
       "      <td></td>         <th>coef</th>     <th>std err</th>      <th>t</th>      <th>P>|t|</th>  <th>[0.025</th>    <th>0.975]</th>  \n",
       "</tr>\n",
       "<tr>\n",
       "  <th>Intercept</th> <td>  -66.2719</td> <td>   47.709</td> <td>   -1.389</td> <td> 0.177</td> <td> -164.339</td> <td>   31.796</td>\n",
       "</tr>\n",
       "<tr>\n",
       "  <th>Temp</th>      <td>    0.6503</td> <td>    0.690</td> <td>    0.942</td> <td> 0.355</td> <td>   -0.768</td> <td>    2.069</td>\n",
       "</tr>\n",
       "<tr>\n",
       "  <th>Pressure</th>  <td>    3.5632</td> <td>    0.294</td> <td>   12.130</td> <td> 0.000</td> <td>    2.959</td> <td>    4.167</td>\n",
       "</tr>\n",
       "</table>\n",
       "<table class=\"simpletable\">\n",
       "<tr>\n",
       "  <th>Omnibus:</th>       <td> 4.194</td> <th>  Durbin-Watson:     </th> <td>   1.748</td>\n",
       "</tr>\n",
       "<tr>\n",
       "  <th>Prob(Omnibus):</th> <td> 0.123</td> <th>  Jarque-Bera (JB):  </th> <td>   2.611</td>\n",
       "</tr>\n",
       "<tr>\n",
       "  <th>Skew:</th>          <td> 0.655</td> <th>  Prob(JB):          </th> <td>   0.271</td>\n",
       "</tr>\n",
       "<tr>\n",
       "  <th>Kurtosis:</th>      <td> 3.666</td> <th>  Cond. No.          </th> <td>2.02e+03</td>\n",
       "</tr>\n",
       "</table><br/><br/>Notes:<br/>[1] Standard Errors assume that the covariance matrix of the errors is correctly specified.<br/>[2] The condition number is large, 2.02e+03. This might indicate that there are<br/>strong multicollinearity or other numerical problems."
      ],
      "text/plain": [
       "<class 'statsmodels.iolib.summary.Summary'>\n",
       "\"\"\"\n",
       "                            OLS Regression Results                            \n",
       "==============================================================================\n",
       "Dep. Variable:               Hardness   R-squared:                       0.850\n",
       "Model:                            OLS   Adj. R-squared:                  0.838\n",
       "Method:                 Least Squares   F-statistic:                     73.57\n",
       "Date:                Sat, 07 Oct 2023   Prob (F-statistic):           1.97e-11\n",
       "Time:                        08:28:00   Log-Likelihood:                -102.92\n",
       "No. Observations:                  29   AIC:                             211.8\n",
       "Df Residuals:                      26   BIC:                             215.9\n",
       "Df Model:                           2                                         \n",
       "Covariance Type:            nonrobust                                         \n",
       "==============================================================================\n",
       "                 coef    std err          t      P>|t|      [0.025      0.975]\n",
       "------------------------------------------------------------------------------\n",
       "Intercept    -66.2719     47.709     -1.389      0.177    -164.339      31.796\n",
       "Temp           0.6503      0.690      0.942      0.355      -0.768       2.069\n",
       "Pressure       3.5632      0.294     12.130      0.000       2.959       4.167\n",
       "==============================================================================\n",
       "Omnibus:                        4.194   Durbin-Watson:                   1.748\n",
       "Prob(Omnibus):                  0.123   Jarque-Bera (JB):                2.611\n",
       "Skew:                           0.655   Prob(JB):                        0.271\n",
       "Kurtosis:                       3.666   Cond. No.                     2.02e+03\n",
       "==============================================================================\n",
       "\n",
       "Notes:\n",
       "[1] Standard Errors assume that the covariance matrix of the errors is correctly specified.\n",
       "[2] The condition number is large, 2.02e+03. This might indicate that there are\n",
       "strong multicollinearity or other numerical problems.\n",
       "\"\"\""
      ]
     },
     "execution_count": 5,
     "metadata": {},
     "output_type": "execute_result"
    }
   ],
   "source": [
    "# For comparison as to which fit is the best (line or curve), we will fit the data using both linear formula and quadratic formula\n",
    "# 1. Fit the model using linear formula and check the statistics\n",
    "linear_model = ols(\"Hardness ~ Temp + Pressure\", data=hardness_df).fit()\n",
    "linear_model.summary()\n"
   ]
  },
  {
   "cell_type": "code",
   "execution_count": 6,
   "metadata": {},
   "outputs": [
    {
     "data": {
      "text/html": [
       "<table class=\"simpletable\">\n",
       "<caption>OLS Regression Results</caption>\n",
       "<tr>\n",
       "  <th>Dep. Variable:</th>        <td>Hardness</td>     <th>  R-squared:         </th> <td>   0.898</td>\n",
       "</tr>\n",
       "<tr>\n",
       "  <th>Model:</th>                   <td>OLS</td>       <th>  Adj. R-squared:    </th> <td>   0.886</td>\n",
       "</tr>\n",
       "<tr>\n",
       "  <th>Method:</th>             <td>Least Squares</td>  <th>  F-statistic:       </th> <td>   73.55</td>\n",
       "</tr>\n",
       "<tr>\n",
       "  <th>Date:</th>             <td>Sat, 07 Oct 2023</td> <th>  Prob (F-statistic):</th> <td>1.54e-12</td>\n",
       "</tr>\n",
       "<tr>\n",
       "  <th>Time:</th>                 <td>08:28:00</td>     <th>  Log-Likelihood:    </th> <td> -97.281</td>\n",
       "</tr>\n",
       "<tr>\n",
       "  <th>No. Observations:</th>      <td>    29</td>      <th>  AIC:               </th> <td>   202.6</td>\n",
       "</tr>\n",
       "<tr>\n",
       "  <th>Df Residuals:</th>          <td>    25</td>      <th>  BIC:               </th> <td>   208.0</td>\n",
       "</tr>\n",
       "<tr>\n",
       "  <th>Df Model:</th>              <td>     3</td>      <th>                     </th>     <td> </td>   \n",
       "</tr>\n",
       "<tr>\n",
       "  <th>Covariance Type:</th>      <td>nonrobust</td>    <th>                     </th>     <td> </td>   \n",
       "</tr>\n",
       "</table>\n",
       "<table class=\"simpletable\">\n",
       "<tr>\n",
       "            <td></td>               <th>coef</th>     <th>std err</th>      <th>t</th>      <th>P>|t|</th>  <th>[0.025</th>    <th>0.975]</th>  \n",
       "</tr>\n",
       "<tr>\n",
       "  <th>Intercept</th>             <td>  -38.8274</td> <td>   40.837</td> <td>   -0.951</td> <td> 0.351</td> <td> -122.934</td> <td>   45.279</td>\n",
       "</tr>\n",
       "<tr>\n",
       "  <th>Temp</th>                  <td>    0.7594</td> <td>    0.580</td> <td>    1.309</td> <td> 0.202</td> <td>   -0.435</td> <td>    1.954</td>\n",
       "</tr>\n",
       "<tr>\n",
       "  <th>Pressure</th>              <td>   -1.5972</td> <td>    1.517</td> <td>   -1.053</td> <td> 0.302</td> <td>   -4.721</td> <td>    1.527</td>\n",
       "</tr>\n",
       "<tr>\n",
       "  <th>np.power(Pressure, 2)</th> <td>    0.1657</td> <td>    0.048</td> <td>    3.448</td> <td> 0.002</td> <td>    0.067</td> <td>    0.265</td>\n",
       "</tr>\n",
       "</table>\n",
       "<table class=\"simpletable\">\n",
       "<tr>\n",
       "  <th>Omnibus:</th>       <td> 1.718</td> <th>  Durbin-Watson:     </th> <td>   1.568</td>\n",
       "</tr>\n",
       "<tr>\n",
       "  <th>Prob(Omnibus):</th> <td> 0.424</td> <th>  Jarque-Bera (JB):  </th> <td>   0.700</td>\n",
       "</tr>\n",
       "<tr>\n",
       "  <th>Skew:</th>          <td> 0.309</td> <th>  Prob(JB):          </th> <td>   0.705</td>\n",
       "</tr>\n",
       "<tr>\n",
       "  <th>Kurtosis:</th>      <td> 3.445</td> <th>  Cond. No.          </th> <td>9.52e+03</td>\n",
       "</tr>\n",
       "</table><br/><br/>Notes:<br/>[1] Standard Errors assume that the covariance matrix of the errors is correctly specified.<br/>[2] The condition number is large, 9.52e+03. This might indicate that there are<br/>strong multicollinearity or other numerical problems."
      ],
      "text/plain": [
       "<class 'statsmodels.iolib.summary.Summary'>\n",
       "\"\"\"\n",
       "                            OLS Regression Results                            \n",
       "==============================================================================\n",
       "Dep. Variable:               Hardness   R-squared:                       0.898\n",
       "Model:                            OLS   Adj. R-squared:                  0.886\n",
       "Method:                 Least Squares   F-statistic:                     73.55\n",
       "Date:                Sat, 07 Oct 2023   Prob (F-statistic):           1.54e-12\n",
       "Time:                        08:28:00   Log-Likelihood:                -97.281\n",
       "No. Observations:                  29   AIC:                             202.6\n",
       "Df Residuals:                      25   BIC:                             208.0\n",
       "Df Model:                           3                                         \n",
       "Covariance Type:            nonrobust                                         \n",
       "=========================================================================================\n",
       "                            coef    std err          t      P>|t|      [0.025      0.975]\n",
       "-----------------------------------------------------------------------------------------\n",
       "Intercept               -38.8274     40.837     -0.951      0.351    -122.934      45.279\n",
       "Temp                      0.7594      0.580      1.309      0.202      -0.435       1.954\n",
       "Pressure                 -1.5972      1.517     -1.053      0.302      -4.721       1.527\n",
       "np.power(Pressure, 2)     0.1657      0.048      3.448      0.002       0.067       0.265\n",
       "==============================================================================\n",
       "Omnibus:                        1.718   Durbin-Watson:                   1.568\n",
       "Prob(Omnibus):                  0.424   Jarque-Bera (JB):                0.700\n",
       "Skew:                           0.309   Prob(JB):                        0.705\n",
       "Kurtosis:                       3.445   Cond. No.                     9.52e+03\n",
       "==============================================================================\n",
       "\n",
       "Notes:\n",
       "[1] Standard Errors assume that the covariance matrix of the errors is correctly specified.\n",
       "[2] The condition number is large, 9.52e+03. This might indicate that there are\n",
       "strong multicollinearity or other numerical problems.\n",
       "\"\"\""
      ]
     },
     "execution_count": 6,
     "metadata": {},
     "output_type": "execute_result"
    }
   ],
   "source": [
    "# Fitting the model using quadratic formula\n",
    "quad_model = ols(\"Hardness ~ Temp + Pressure + np.power(Pressure, 2)\", data=hardness_df).fit()\n",
    "quad_model.summary()"
   ]
  },
  {
   "cell_type": "markdown",
   "metadata": {},
   "source": [
    "**Regression Equation**\n",
    "- The Regression equation for the quadratic regression model will be\n",
    "$$ Hardness = -38.8 + 0.759 Temp - 1.6 Pressure + 0.1657 Pressure * Pressure $$"
   ]
  },
  {
   "cell_type": "code",
   "execution_count": 7,
   "metadata": {},
   "outputs": [],
   "source": [
    "# Try making a plot using the model equation with matplotlib"
   ]
  },
  {
   "cell_type": "code",
   "execution_count": 8,
   "metadata": {},
   "outputs": [
    {
     "data": {
      "text/plain": [
       "<seaborn.axisgrid.PairGrid at 0x1cb392a3820>"
      ]
     },
     "execution_count": 8,
     "metadata": {},
     "output_type": "execute_result"
    },
    {
     "data": {
      "image/png": "[encoded data removed]",
      "text/plain": [
       "<Figure size 500x250 with 2 Axes>"
      ]
     },
     "metadata": {},
     "output_type": "display_data"
    }
   ],
   "source": [
    "# Main effects plot for the linear model.\n",
    "sns.pairplot(hardness_df, \n",
    "             x_vars = [\"Pressure\", \"Temp\"],\n",
    "             y_vars=[\"Hardness\"],\n",
    "             kind=\"reg\")"
   ]
  },
  {
   "cell_type": "code",
   "execution_count": 9,
   "metadata": {},
   "outputs": [
    {
     "data": {
      "text/plain": [
       "<seaborn.axisgrid.FacetGrid at 0x1cb3960de70>"
      ]
     },
     "execution_count": 9,
     "metadata": {},
     "output_type": "execute_result"
    },
    {
     "data": {
      "image/png": "[encoded data removed]",
      "text/plain": [
       "<Figure size 500x500 with 1 Axes>"
      ]
     },
     "metadata": {},
     "output_type": "display_data"
    }
   ],
   "source": [
    "# Plotting regression line for quadratic model\n",
    "sns.lmplot(hardness_df,x=\"Pressure\",\n",
    "           y=\"Hardness\", \n",
    "           order=2,\n",
    "           ci=None, # confidence interval\n",
    "           scatter_kws={\"s\": 80})\n",
    "\n",
    "# sns.lmplot(hardness_df,x=\"Temp\", \n",
    "#            y=\"Hardness\", \n",
    "#            order=2,\n",
    "#            ci=None, # confidence interval\n",
    "#            scatter_kws={\"s\": 80})"
   ]
  },
  {
   "cell_type": "markdown",
   "metadata": {},
   "source": [
    "### Interpretation of results\n",
    "- In this example we are using temperature and pressure in a manufacturing process to predict the hardness of a product. \n",
    "- Temperature is a linear term and according to the regression equation:\n",
    "    - for one degree increase in temperature, the stiffness increases by 0.759 units of hardness.\n",
    "    - Pressure also related to hardness, but it includes a polynomial term in the equation.\n",
    "    - The equation has a squared term, which means that hardness has a U or and inverted U shaped relationship with pressure.\n",
    "    - The positive coefficient indicates that it is U shaped.\n",
    "    - To plot the fitted line for two or more variables we use a **main effects plot**.\n",
    "    - A main effects plot shows the effects of each independent variable on the dependent variable while keeping others constant.\n",
    "- From the above plot we can see the **curvilinear** nature of the relationship between density and stiffness or(Pressure and  Hardness)\n",
    "- When there is no relationship between two variables, the plot displays horizontal lines that represents the coefficients with values of zero.\n",
    "- However, random sampling error can produce apparent relationships in these graphs, when two variables are not related.\n",
    "- So, while we can use main effects plots to display relationships between two variables, but to verify if they are statistically significant, we will use p-values."
   ]
  },
  {
   "cell_type": "markdown",
   "metadata": {},
   "source": [
    "### Need to fit curves in a Regression Model\n",
    "- When we have one independent variable, using a fitted line plot both to see curvature and to determine  whether the model fits the curvature is easy.\n",
    "- With multiple regression, we can use main effects plots to display how the model fits the curvature.\n",
    "- However these plots don't indicate how *well* the model fits the curvature.\n",
    "- For multiple regression residual plots are a crucial indicator of whether your model adequately fits curved relationships.\n",
    "- If you see a pattern in the residual plots, your model doesn't provide adequate fit for the data.\n",
    "\n",
    "**Tip**\n",
    "- When you start working with your dataset, the best way to determine whether the relationship between variables are curved is to graph them in a scatterplot.\n",
    "- The curve that the plot displays often helps determine how to model it."
   ]
  },
  {
   "cell_type": "markdown",
   "metadata": {},
   "source": [
    "### Difference b/w Linear and Non Linear Models\n",
    "- Non Linear Regression is a type of analysis that can fit more types of curves as there are limitations on the type of curves that Linear regression.\n",
    "- To differentiate the two, we will first see, what is a Linear Regression Equation. Everything else is then non-linear.\n",
    "\n",
    "#### Linear Regression Equations\n",
    "- A linear regression model follows a very particular form. \n",
    "- In Statistics a model is linear when all terms in the model are one of the following :\n",
    "    - The constant\n",
    "    - A parameter multiplied by an independent variable(IV).\n",
    "- Then we can build the equation by only adding the terms together.\n",
    "- These rules limit the form to just one type\n",
    "$$  \n",
    "    Dependent Variable = constant + parameter * IV + ... + parameter * IV\n",
    "$$ \n",
    "            OR\n",
    "$$\n",
    "    y = \\beta_0 + \\beta_1 X_1 + ... + \\beta_k X_k \n",
    "$$\n",
    "\n",
    "- This type of regression equation is linear in the parameters. \n",
    "- It is also possible to model curvature with this type of model. While the function must me linear in parameters, we can raise an independent variable by an exponent to fit a curve.\n",
    "- For ex - if you square an independent variable, the model can follow a U-shaped curve, as in the above example (squared the pressure variable to fit the U-shaped curve). The equation will be\n",
    "$$\n",
    "    y = \\beta_0 + \\beta_1 X_1 + \\beta_2 X_2^2\n",
    "$$\n",
    "- While the independent variable is squared, the model is still linear in the parameters. \n",
    "- Linear models can also contain log terms and inverse terms to follow different kinds of curves and yet continue to be linear in the parameters."
   ]
  },
  {
   "cell_type": "markdown",
   "metadata": {},
   "source": [
    "#### Non Linear Regression Equations\n",
    "- If a regression equation doesn't follow the rules for a linear model, then it must be a non linear model.\n",
    "- This added flexibility opens the door to a huge number of possible forms. Consequently non-linear regression can fit a variety of curves.\n",
    "- You may need to conduct some research ad to which  functional form provides the best fit for your data.\n",
    "- Below are some examples of Non linear regression equations: (can't bring the plots here, google them if required)\n",
    "    1. Power - $\\theta_1 * X^\\theta 2 $\n",
    "    2. Weibull growth - $ \\theta + (\\theta_2 - \\theta_1) * \\exp(-\\theta_3 * X^\\theta 4)$\n",
    "    3. Fourier - $ \\theta_1 * \\cos(X + \\theta_4) + \\theta_2 * \\cos(2 * X + \\theta_4) + \\theta_3 $\n",
    "        \n",
    "- The defining characteristic for both types of models is the functional form. "
   ]
  },
  {
   "cell_type": "markdown",
   "metadata": {},
   "source": [
    "### The best way to Model Curvature\n",
    "- To determine which method best fits the curve, we will use a combination of graphs and goodness of fit statistics.\n",
    "- The two goodness-of-fit statistics that will be used in this example are - R-squared and Standard error of Regression (S).\n",
    "- Higher R-squared and lower S values are often better.\n",
    "\n",
    "#### Curve Fitting using Polynomial terms in Linear Regression\n",
    "- The most common method to fit a curvilinear relationship is to include polynomial terms in a linear model.\n",
    "- If you are unsure where to start, polynomials are a great place.\n",
    "- Polynomial terms are independent variables, that you raise to a power, such as squared or cubed terms.\n",
    "- To determine the correct polynomial term to include:\n",
    "    - First count the number of bends in the line.\n",
    "    - Then take the number of bends in the curve and add one for the order.\n",
    "    - For ex - quadratic terms model one bend while cubic terms model 2.\n",
    "- In practice cubic terms are very rare, and most of the terms are usually quadratic.\n",
    "\n",
    "**Tip**\n",
    "- If you include a polynomial term in the model, you should center the continuous independent variables to reduce multicolinearity that it produces."
   ]
  },
  {
   "cell_type": "markdown",
   "metadata": {},
   "source": [
    "#### Example for fitting different curves\n",
    "- Below is the example to show how to fit different curves and analyze which is a better fit using goodness-of-fit statistics"
   ]
  },
  {
   "cell_type": "code",
   "execution_count": 10,
   "metadata": {},
   "outputs": [
    {
     "data": {
      "text/html": [
       "<div>\n",
       "<style scoped>\n",
       "    .dataframe tbody tr th:only-of-type {\n",
       "        vertical-align: middle;\n",
       "    }\n",
       "\n",
       "    .dataframe tbody tr th {\n",
       "        vertical-align: top;\n",
       "    }\n",
       "\n",
       "    .dataframe thead th {\n",
       "        text-align: right;\n",
       "    }\n",
       "</style>\n",
       "<table border=\"1\" class=\"dataframe\">\n",
       "  <thead>\n",
       "    <tr style=\"text-align: right;\">\n",
       "      <th></th>\n",
       "      <th>Input</th>\n",
       "      <th>Output</th>\n",
       "      <th>InvInput</th>\n",
       "    </tr>\n",
       "  </thead>\n",
       "  <tbody>\n",
       "    <tr>\n",
       "      <th>0</th>\n",
       "      <td>1</td>\n",
       "      <td>6.0</td>\n",
       "      <td>1.000000</td>\n",
       "    </tr>\n",
       "    <tr>\n",
       "      <th>1</th>\n",
       "      <td>2</td>\n",
       "      <td>9.5</td>\n",
       "      <td>0.500000</td>\n",
       "    </tr>\n",
       "    <tr>\n",
       "      <th>2</th>\n",
       "      <td>3</td>\n",
       "      <td>13.0</td>\n",
       "      <td>0.333333</td>\n",
       "    </tr>\n",
       "    <tr>\n",
       "      <th>3</th>\n",
       "      <td>4</td>\n",
       "      <td>15.0</td>\n",
       "      <td>0.250000</td>\n",
       "    </tr>\n",
       "    <tr>\n",
       "      <th>4</th>\n",
       "      <td>5</td>\n",
       "      <td>16.5</td>\n",
       "      <td>0.200000</td>\n",
       "    </tr>\n",
       "  </tbody>\n",
       "</table>\n",
       "</div>"
      ],
      "text/plain": [
       "   Input  Output  InvInput\n",
       "0      1     6.0  1.000000\n",
       "1      2     9.5  0.500000\n",
       "2      3    13.0  0.333333\n",
       "3      4    15.0  0.250000\n",
       "4      5    16.5  0.200000"
      ]
     },
     "execution_count": 10,
     "metadata": {},
     "output_type": "execute_result"
    }
   ],
   "source": [
    "# load the dataset\n",
    "curve_fitting_df = pd.read_csv(\"../../datasets/RegressionAnalysisDatasets/CurveFittingExample.csv\")\n",
    "curve_fitting_df.head()"
   ]
  },
  {
   "cell_type": "code",
   "execution_count": 11,
   "metadata": {},
   "outputs": [
    {
     "data": {
      "text/plain": [
       "<seaborn.axisgrid.PairGrid at 0x1cb7522fbe0>"
      ]
     },
     "execution_count": 11,
     "metadata": {},
     "output_type": "execute_result"
    },
    {
     "data": {
      "image/png": "[encoded data removed]",
      "text/plain": [
       "<Figure size 500x250 with 2 Axes>"
      ]
     },
     "metadata": {},
     "output_type": "display_data"
    }
   ],
   "source": [
    "# Visualizing the data -  all variables\n",
    "sns.pairplot(curve_fitting_df,\n",
    "             x_vars=[\"Input\", \"InvInput\"],\n",
    "             y_vars=[\"Output\"])"
   ]
  },
  {
   "cell_type": "code",
   "execution_count": 12,
   "metadata": {},
   "outputs": [
    {
     "name": "stderr",
     "output_type": "stream",
     "text": [
      "c:\\Users\\heena\\Desktop\\Learning_ML\\ml_env\\lib\\site-packages\\scipy\\stats\\_stats_py.py:1736: UserWarning: kurtosistest only valid for n>=20 ... continuing anyway, n=11\n",
      "  warnings.warn(\"kurtosistest only valid for n>=20 ... continuing \"\n"
     ]
    },
    {
     "data": {
      "text/html": [
       "<table class=\"simpletable\">\n",
       "<caption>OLS Regression Results</caption>\n",
       "<tr>\n",
       "  <th>Dep. Variable:</th>         <td>Output</td>      <th>  R-squared:         </th> <td>   0.990</td>\n",
       "</tr>\n",
       "<tr>\n",
       "  <th>Model:</th>                   <td>OLS</td>       <th>  Adj. R-squared:    </th> <td>   0.987</td>\n",
       "</tr>\n",
       "<tr>\n",
       "  <th>Method:</th>             <td>Least Squares</td>  <th>  F-statistic:       </th> <td>   386.8</td>\n",
       "</tr>\n",
       "<tr>\n",
       "  <th>Date:</th>             <td>Sat, 07 Oct 2023</td> <th>  Prob (F-statistic):</th> <td>1.10e-08</td>\n",
       "</tr>\n",
       "<tr>\n",
       "  <th>Time:</th>                 <td>08:28:01</td>     <th>  Log-Likelihood:    </th> <td> -6.6295</td>\n",
       "</tr>\n",
       "<tr>\n",
       "  <th>No. Observations:</th>      <td>    11</td>      <th>  AIC:               </th> <td>   19.26</td>\n",
       "</tr>\n",
       "<tr>\n",
       "  <th>Df Residuals:</th>          <td>     8</td>      <th>  BIC:               </th> <td>   20.45</td>\n",
       "</tr>\n",
       "<tr>\n",
       "  <th>Df Model:</th>              <td>     2</td>      <th>                     </th>     <td> </td>   \n",
       "</tr>\n",
       "<tr>\n",
       "  <th>Covariance Type:</th>      <td>nonrobust</td>    <th>                     </th>     <td> </td>   \n",
       "</tr>\n",
       "</table>\n",
       "<table class=\"simpletable\">\n",
       "<tr>\n",
       "           <td></td>             <th>coef</th>     <th>std err</th>      <th>t</th>      <th>P>|t|</th>  <th>[0.025</th>    <th>0.975]</th>  \n",
       "</tr>\n",
       "<tr>\n",
       "  <th>Intercept</th>          <td>    3.2412</td> <td>    0.569</td> <td>    5.693</td> <td> 0.000</td> <td>    1.928</td> <td>    4.554</td>\n",
       "</tr>\n",
       "<tr>\n",
       "  <th>Input</th>              <td>    3.5643</td> <td>    0.218</td> <td>   16.346</td> <td> 0.000</td> <td>    3.061</td> <td>    4.067</td>\n",
       "</tr>\n",
       "<tr>\n",
       "  <th>np.power(Input, 2)</th> <td>   -0.1915</td> <td>    0.018</td> <td>  -10.820</td> <td> 0.000</td> <td>   -0.232</td> <td>   -0.151</td>\n",
       "</tr>\n",
       "</table>\n",
       "<table class=\"simpletable\">\n",
       "<tr>\n",
       "  <th>Omnibus:</th>       <td> 1.276</td> <th>  Durbin-Watson:     </th> <td>   0.883</td>\n",
       "</tr>\n",
       "<tr>\n",
       "  <th>Prob(Omnibus):</th> <td> 0.528</td> <th>  Jarque-Bera (JB):  </th> <td>   0.888</td>\n",
       "</tr>\n",
       "<tr>\n",
       "  <th>Skew:</th>          <td> 0.419</td> <th>  Prob(JB):          </th> <td>   0.642</td>\n",
       "</tr>\n",
       "<tr>\n",
       "  <th>Kurtosis:</th>      <td> 1.888</td> <th>  Cond. No.          </th> <td>    234.</td>\n",
       "</tr>\n",
       "</table><br/><br/>Notes:<br/>[1] Standard Errors assume that the covariance matrix of the errors is correctly specified."
      ],
      "text/plain": [
       "<class 'statsmodels.iolib.summary.Summary'>\n",
       "\"\"\"\n",
       "                            OLS Regression Results                            \n",
       "==============================================================================\n",
       "Dep. Variable:                 Output   R-squared:                       0.990\n",
       "Model:                            OLS   Adj. R-squared:                  0.987\n",
       "Method:                 Least Squares   F-statistic:                     386.8\n",
       "Date:                Sat, 07 Oct 2023   Prob (F-statistic):           1.10e-08\n",
       "Time:                        08:28:01   Log-Likelihood:                -6.6295\n",
       "No. Observations:                  11   AIC:                             19.26\n",
       "Df Residuals:                       8   BIC:                             20.45\n",
       "Df Model:                           2                                         \n",
       "Covariance Type:            nonrobust                                         \n",
       "======================================================================================\n",
       "                         coef    std err          t      P>|t|      [0.025      0.975]\n",
       "--------------------------------------------------------------------------------------\n",
       "Intercept              3.2412      0.569      5.693      0.000       1.928       4.554\n",
       "Input                  3.5643      0.218     16.346      0.000       3.061       4.067\n",
       "np.power(Input, 2)    -0.1915      0.018    -10.820      0.000      -0.232      -0.151\n",
       "==============================================================================\n",
       "Omnibus:                        1.276   Durbin-Watson:                   0.883\n",
       "Prob(Omnibus):                  0.528   Jarque-Bera (JB):                0.888\n",
       "Skew:                           0.419   Prob(JB):                        0.642\n",
       "Kurtosis:                       1.888   Cond. No.                         234.\n",
       "==============================================================================\n",
       "\n",
       "Notes:\n",
       "[1] Standard Errors assume that the covariance matrix of the errors is correctly specified.\n",
       "\"\"\""
      ]
     },
     "execution_count": 12,
     "metadata": {},
     "output_type": "execute_result"
    }
   ],
   "source": [
    "# fit the model - only for \"Input\" variable \n",
    "curve_fitting_quad_model =  ols(\"Output ~ Input + np.power(Input, 2)\", data=curve_fitting_df).fit()\n",
    "curve_fitting_quad_model.summary()"
   ]
  },
  {
   "cell_type": "code",
   "execution_count": 13,
   "metadata": {},
   "outputs": [
    {
     "data": {
      "text/plain": [
       "0.5183868649232367"
      ]
     },
     "execution_count": 13,
     "metadata": {},
     "output_type": "execute_result"
    }
   ],
   "source": [
    "# Standard Error of Regression (Root mean squared Error of residuals)\n",
    "np.sqrt(curve_fitting_quad_model.mse_resid)\n",
    "\n",
    "# Further Reading\n",
    "# https://statisticsbyjim.com/regression/root-mean-square-error-rmse/\n",
    "# https://statisticsbyjim.com/regression/standard-error-regression-vs-r-squared/\n",
    "# https://www.statsmodels.org/dev/generated/statsmodels.regression.linear_model.OLSResults.html"
   ]
  },
  {
   "cell_type": "code",
   "execution_count": 14,
   "metadata": {},
   "outputs": [
    {
     "data": {
      "text/plain": [
       "<seaborn.axisgrid.FacetGrid at 0x1cb39c396c0>"
      ]
     },
     "execution_count": 14,
     "metadata": {},
     "output_type": "execute_result"
    },
    {
     "data": {
      "image/png": "[encoded data removed]",
      "text/plain": [
       "<Figure size 500x500 with 1 Axes>"
      ]
     },
     "metadata": {},
     "output_type": "display_data"
    }
   ],
   "source": [
    "# fitted line plot with quadratic term\n",
    "sns.lmplot(curve_fitting_df,\n",
    "           x=\"Input\",\n",
    "           y=\"Output\", \n",
    "           order=2,\n",
    "           ci=None, # confidence interval\n",
    "           scatter_kws={\"s\": 60},\n",
    "           line_kws={'color': 'red'})"
   ]
  },
  {
   "cell_type": "markdown",
   "metadata": {},
   "source": [
    "#### Interpretation of the Curve fitting Example\n",
    "- The R-squared value in the above example is 99%, but as we see from the plot above, the regression line doesn't quite fit correctly.\n",
    "- The fitted line systematically over and under-predicts the data at different points along the curve.\n",
    "- High R-squared values don't always represent good models and we need to check residual plots to get a better idea of model fit."
   ]
  },
  {
   "cell_type": "markdown",
   "metadata": {},
   "source": [
    "#### Curve Fitting using Reciprocal Terms in Linear Regression\n",
    "- When a dependent variable descends to a floor or ascends to a ceiling (i.e. approaches an asymptote), we can try using a reciprocal of an independent variable (1/X).\n",
    "- We use a reciprocal term when the effect of an independent variable decreases as its value increases.\n",
    "- To use this method, you need to create a new column in the dataset and use it in the analysis.\n",
    "- $\\frac{\\beta * 1}{X}$ - The value of this term decreases as the independent variable (X) increases because it is in the denominator.\n",
    "- In other words, a X increases, the effect of this term decreases and the slope flattens.\n",
    "- X cannot equal zero for this type of model because you cannot divide by zero.\n",
    "\n",
    "**Further Reading**\n",
    "- For more details on asymptotes \n",
    "    - https://www.geeksforgeeks.org/asymptote-formula/\n",
    "    - https://www.cuemath.com/calculus/asymptotes/"
   ]
  },
  {
   "cell_type": "code",
   "execution_count": 15,
   "metadata": {},
   "outputs": [
    {
     "name": "stderr",
     "output_type": "stream",
     "text": [
      "c:\\Users\\heena\\Desktop\\Learning_ML\\ml_env\\lib\\site-packages\\scipy\\stats\\_stats_py.py:1736: UserWarning: kurtosistest only valid for n>=20 ... continuing anyway, n=11\n",
      "  warnings.warn(\"kurtosistest only valid for n>=20 ... continuing \"\n"
     ]
    },
    {
     "data": {
      "text/html": [
       "<table class=\"simpletable\">\n",
       "<caption>OLS Regression Results</caption>\n",
       "<tr>\n",
       "  <th>Dep. Variable:</th>         <td>Output</td>      <th>  R-squared:         </th> <td>   0.904</td>\n",
       "</tr>\n",
       "<tr>\n",
       "  <th>Model:</th>                   <td>OLS</td>       <th>  Adj. R-squared:    </th> <td>   0.893</td>\n",
       "</tr>\n",
       "<tr>\n",
       "  <th>Method:</th>             <td>Least Squares</td>  <th>  F-statistic:       </th> <td>   84.77</td>\n",
       "</tr>\n",
       "<tr>\n",
       "  <th>Date:</th>             <td>Sat, 07 Oct 2023</td> <th>  Prob (F-statistic):</th> <td>7.09e-06</td>\n",
       "</tr>\n",
       "<tr>\n",
       "  <th>Time:</th>                 <td>08:28:02</td>     <th>  Log-Likelihood:    </th> <td> -18.939</td>\n",
       "</tr>\n",
       "<tr>\n",
       "  <th>No. Observations:</th>      <td>    11</td>      <th>  AIC:               </th> <td>   41.88</td>\n",
       "</tr>\n",
       "<tr>\n",
       "  <th>Df Residuals:</th>          <td>     9</td>      <th>  BIC:               </th> <td>   42.67</td>\n",
       "</tr>\n",
       "<tr>\n",
       "  <th>Df Model:</th>              <td>     1</td>      <th>                     </th>     <td> </td>   \n",
       "</tr>\n",
       "<tr>\n",
       "  <th>Covariance Type:</th>      <td>nonrobust</td>    <th>                     </th>     <td> </td>   \n",
       "</tr>\n",
       "</table>\n",
       "<table class=\"simpletable\">\n",
       "<tr>\n",
       "      <td></td>         <th>coef</th>     <th>std err</th>      <th>t</th>      <th>P>|t|</th>  <th>[0.025</th>    <th>0.975]</th>  \n",
       "</tr>\n",
       "<tr>\n",
       "  <th>Intercept</th> <td>   20.2487</td> <td>    0.660</td> <td>   30.695</td> <td> 0.000</td> <td>   18.756</td> <td>   21.741</td>\n",
       "</tr>\n",
       "<tr>\n",
       "  <th>InvInput</th>  <td>  -16.1384</td> <td>    1.753</td> <td>   -9.207</td> <td> 0.000</td> <td>  -20.104</td> <td>  -12.173</td>\n",
       "</tr>\n",
       "</table>\n",
       "<table class=\"simpletable\">\n",
       "<tr>\n",
       "  <th>Omnibus:</th>       <td> 1.292</td> <th>  Durbin-Watson:     </th> <td>   1.149</td>\n",
       "</tr>\n",
       "<tr>\n",
       "  <th>Prob(Omnibus):</th> <td> 0.524</td> <th>  Jarque-Bera (JB):  </th> <td>   0.970</td>\n",
       "</tr>\n",
       "<tr>\n",
       "  <th>Skew:</th>          <td>-0.620</td> <th>  Prob(JB):          </th> <td>   0.616</td>\n",
       "</tr>\n",
       "<tr>\n",
       "  <th>Kurtosis:</th>      <td> 2.240</td> <th>  Cond. No.          </th> <td>    4.20</td>\n",
       "</tr>\n",
       "</table><br/><br/>Notes:<br/>[1] Standard Errors assume that the covariance matrix of the errors is correctly specified."
      ],
      "text/plain": [
       "<class 'statsmodels.iolib.summary.Summary'>\n",
       "\"\"\"\n",
       "                            OLS Regression Results                            \n",
       "==============================================================================\n",
       "Dep. Variable:                 Output   R-squared:                       0.904\n",
       "Model:                            OLS   Adj. R-squared:                  0.893\n",
       "Method:                 Least Squares   F-statistic:                     84.77\n",
       "Date:                Sat, 07 Oct 2023   Prob (F-statistic):           7.09e-06\n",
       "Time:                        08:28:02   Log-Likelihood:                -18.939\n",
       "No. Observations:                  11   AIC:                             41.88\n",
       "Df Residuals:                       9   BIC:                             42.67\n",
       "Df Model:                           1                                         \n",
       "Covariance Type:            nonrobust                                         \n",
       "==============================================================================\n",
       "                 coef    std err          t      P>|t|      [0.025      0.975]\n",
       "------------------------------------------------------------------------------\n",
       "Intercept     20.2487      0.660     30.695      0.000      18.756      21.741\n",
       "InvInput     -16.1384      1.753     -9.207      0.000     -20.104     -12.173\n",
       "==============================================================================\n",
       "Omnibus:                        1.292   Durbin-Watson:                   1.149\n",
       "Prob(Omnibus):                  0.524   Jarque-Bera (JB):                0.970\n",
       "Skew:                          -0.620   Prob(JB):                        0.616\n",
       "Kurtosis:                       2.240   Cond. No.                         4.20\n",
       "==============================================================================\n",
       "\n",
       "Notes:\n",
       "[1] Standard Errors assume that the covariance matrix of the errors is correctly specified.\n",
       "\"\"\""
      ]
     },
     "execution_count": 15,
     "metadata": {},
     "output_type": "execute_result"
    }
   ],
   "source": [
    "# Fitting a model with linear reciprocal term\n",
    "linear_reciprocal_model = ols(\"Output ~ InvInput\", data=curve_fitting_df).fit()\n",
    "linear_reciprocal_model.summary()"
   ]
  },
  {
   "cell_type": "code",
   "execution_count": 16,
   "metadata": {},
   "outputs": [
    {
     "name": "stdout",
     "output_type": "stream",
     "text": [
      "R squared - 0.9040214867801841\n",
      "R squared adj - 0.8933572075335379\n",
      "Standard error of Regression (RMSE) - 1.496553757197975\n"
     ]
    }
   ],
   "source": [
    "# R squared\n",
    "print(f\"R squared - {linear_reciprocal_model.rsquared}\")\n",
    "print(f\"R squared adj - {linear_reciprocal_model.rsquared_adj}\")\n",
    "print(f\"Standard error of Regression (RMSE) - {np.sqrt(linear_reciprocal_model.mse_resid)}\")"
   ]
  },
  {
   "cell_type": "code",
   "execution_count": 17,
   "metadata": {},
   "outputs": [
    {
     "data": {
      "text/plain": [
       "<seaborn.axisgrid.FacetGrid at 0x1cb39cce7a0>"
      ]
     },
     "execution_count": 17,
     "metadata": {},
     "output_type": "execute_result"
    },
    {
     "data": {
      "image/png": "[encoded data removed]",
      "text/plain": [
       "<Figure size 500x500 with 1 Axes>"
      ]
     },
     "metadata": {},
     "output_type": "display_data"
    }
   ],
   "source": [
    "# Fitted line plot for linear reciprocal term\n",
    "sns.lmplot(curve_fitting_df,\n",
    "           x=\"InvInput\",\n",
    "           y=\"Output\", \n",
    "           order=1,\n",
    "           ci=None, # confidence interval\n",
    "           scatter_kws={\"s\": 60},\n",
    "           line_kws={'color': 'red'})"
   ]
  },
  {
   "cell_type": "code",
   "execution_count": 18,
   "metadata": {},
   "outputs": [
    {
     "name": "stderr",
     "output_type": "stream",
     "text": [
      "c:\\Users\\heena\\Desktop\\Learning_ML\\ml_env\\lib\\site-packages\\scipy\\stats\\_stats_py.py:1736: UserWarning: kurtosistest only valid for n>=20 ... continuing anyway, n=11\n",
      "  warnings.warn(\"kurtosistest only valid for n>=20 ... continuing \"\n"
     ]
    },
    {
     "data": {
      "text/html": [
       "<table class=\"simpletable\">\n",
       "<caption>OLS Regression Results</caption>\n",
       "<tr>\n",
       "  <th>Dep. Variable:</th>         <td>Output</td>      <th>  R-squared:         </th> <td>   0.999</td>\n",
       "</tr>\n",
       "<tr>\n",
       "  <th>Model:</th>                   <td>OLS</td>       <th>  Adj. R-squared:    </th> <td>   0.999</td>\n",
       "</tr>\n",
       "<tr>\n",
       "  <th>Method:</th>             <td>Least Squares</td>  <th>  F-statistic:       </th> <td>   5772.</td>\n",
       "</tr>\n",
       "<tr>\n",
       "  <th>Date:</th>             <td>Sat, 07 Oct 2023</td> <th>  Prob (F-statistic):</th> <td>2.30e-13</td>\n",
       "</tr>\n",
       "<tr>\n",
       "  <th>Time:</th>                 <td>08:28:02</td>     <th>  Log-Likelihood:    </th> <td>  8.1845</td>\n",
       "</tr>\n",
       "<tr>\n",
       "  <th>No. Observations:</th>      <td>    11</td>      <th>  AIC:               </th> <td>  -10.37</td>\n",
       "</tr>\n",
       "<tr>\n",
       "  <th>Df Residuals:</th>          <td>     8</td>      <th>  BIC:               </th> <td>  -9.175</td>\n",
       "</tr>\n",
       "<tr>\n",
       "  <th>Df Model:</th>              <td>     2</td>      <th>                     </th>     <td> </td>   \n",
       "</tr>\n",
       "<tr>\n",
       "  <th>Covariance Type:</th>      <td>nonrobust</td>    <th>                     </th>     <td> </td>   \n",
       "</tr>\n",
       "</table>\n",
       "<table class=\"simpletable\">\n",
       "<tr>\n",
       "            <td></td>               <th>coef</th>     <th>std err</th>      <th>t</th>      <th>P>|t|</th>  <th>[0.025</th>    <th>0.975]</th>  \n",
       "</tr>\n",
       "<tr>\n",
       "  <th>Intercept</th>             <td>   23.3164</td> <td>    0.110</td> <td>  212.135</td> <td> 0.000</td> <td>   23.063</td> <td>   23.570</td>\n",
       "</tr>\n",
       "<tr>\n",
       "  <th>InvInput</th>              <td>  -37.9667</td> <td>    0.677</td> <td>  -56.115</td> <td> 0.000</td> <td>  -39.527</td> <td>  -36.406</td>\n",
       "</tr>\n",
       "<tr>\n",
       "  <th>np.power(InvInput, 2)</th> <td>   20.6504</td> <td>    0.622</td> <td>   33.179</td> <td> 0.000</td> <td>   19.215</td> <td>   22.086</td>\n",
       "</tr>\n",
       "</table>\n",
       "<table class=\"simpletable\">\n",
       "<tr>\n",
       "  <th>Omnibus:</th>       <td> 0.356</td> <th>  Durbin-Watson:     </th> <td>   1.205</td>\n",
       "</tr>\n",
       "<tr>\n",
       "  <th>Prob(Omnibus):</th> <td> 0.837</td> <th>  Jarque-Bera (JB):  </th> <td>   0.168</td>\n",
       "</tr>\n",
       "<tr>\n",
       "  <th>Skew:</th>          <td>-0.243</td> <th>  Prob(JB):          </th> <td>   0.920</td>\n",
       "</tr>\n",
       "<tr>\n",
       "  <th>Kurtosis:</th>      <td> 2.640</td> <th>  Cond. No.          </th> <td>    23.8</td>\n",
       "</tr>\n",
       "</table><br/><br/>Notes:<br/>[1] Standard Errors assume that the covariance matrix of the errors is correctly specified."
      ],
      "text/plain": [
       "<class 'statsmodels.iolib.summary.Summary'>\n",
       "\"\"\"\n",
       "                            OLS Regression Results                            \n",
       "==============================================================================\n",
       "Dep. Variable:                 Output   R-squared:                       0.999\n",
       "Model:                            OLS   Adj. R-squared:                  0.999\n",
       "Method:                 Least Squares   F-statistic:                     5772.\n",
       "Date:                Sat, 07 Oct 2023   Prob (F-statistic):           2.30e-13\n",
       "Time:                        08:28:02   Log-Likelihood:                 8.1845\n",
       "No. Observations:                  11   AIC:                            -10.37\n",
       "Df Residuals:                       8   BIC:                            -9.175\n",
       "Df Model:                           2                                         \n",
       "Covariance Type:            nonrobust                                         \n",
       "=========================================================================================\n",
       "                            coef    std err          t      P>|t|      [0.025      0.975]\n",
       "-----------------------------------------------------------------------------------------\n",
       "Intercept                23.3164      0.110    212.135      0.000      23.063      23.570\n",
       "InvInput                -37.9667      0.677    -56.115      0.000     -39.527     -36.406\n",
       "np.power(InvInput, 2)    20.6504      0.622     33.179      0.000      19.215      22.086\n",
       "==============================================================================\n",
       "Omnibus:                        0.356   Durbin-Watson:                   1.205\n",
       "Prob(Omnibus):                  0.837   Jarque-Bera (JB):                0.168\n",
       "Skew:                          -0.243   Prob(JB):                        0.920\n",
       "Kurtosis:                       2.640   Cond. No.                         23.8\n",
       "==============================================================================\n",
       "\n",
       "Notes:\n",
       "[1] Standard Errors assume that the covariance matrix of the errors is correctly specified.\n",
       "\"\"\""
      ]
     },
     "execution_count": 18,
     "metadata": {},
     "output_type": "execute_result"
    }
   ],
   "source": [
    "# Fitted model for quadratic reciprocal term\n",
    "quad_reciprocal_model = ols(\"Output ~ InvInput + np.power(InvInput, 2)\", data=curve_fitting_df).fit()\n",
    "quad_reciprocal_model.summary()"
   ]
  },
  {
   "cell_type": "code",
   "execution_count": 19,
   "metadata": {},
   "outputs": [
    {
     "name": "stdout",
     "output_type": "stream",
     "text": [
      "R squared - 0.9993075347858517\n",
      "R squared adj - 0.9991344184823145\n",
      "Standard error of Regression (RMSE) - 0.13482814349205102\n"
     ]
    }
   ],
   "source": [
    "# R squared\n",
    "print(f\"R squared - {quad_reciprocal_model.rsquared}\")\n",
    "print(f\"R squared adj - {quad_reciprocal_model.rsquared_adj}\")\n",
    "print(f\"Standard error of Regression (RMSE) - {np.sqrt(quad_reciprocal_model.mse_resid)}\")"
   ]
  },
  {
   "cell_type": "code",
   "execution_count": 20,
   "metadata": {},
   "outputs": [
    {
     "data": {
      "text/plain": [
       "<seaborn.axisgrid.FacetGrid at 0x1cb3967b2e0>"
      ]
     },
     "execution_count": 20,
     "metadata": {},
     "output_type": "execute_result"
    },
    {
     "data": {
      "image/png": "[encoded data removed]",
      "text/plain": [
       "<Figure size 500x500 with 1 Axes>"
      ]
     },
     "metadata": {},
     "output_type": "display_data"
    }
   ],
   "source": [
    "# Fitted line plot for quadratic reciprocal term\n",
    "sns.lmplot(curve_fitting_df,\n",
    "           x=\"InvInput\",\n",
    "           y=\"Output\", \n",
    "           order=2,\n",
    "           ci=None, # confidence interval\n",
    "           scatter_kws={\"s\": 60},\n",
    "           line_kws={'color': 'red'})"
   ]
  },
  {
   "cell_type": "markdown",
   "metadata": {},
   "source": [
    "**Fitted Plots**:  \n",
    "- On the fitted line plots, the quadratic reciprocal model has a higher R-squared value (good) and a lower S-value (good) than the quadratic model.\n",
    "- It also doesn't display biased fitted values. This model provides the best fit to the data."
   ]
  },
  {
   "cell_type": "markdown",
   "metadata": {},
   "source": [
    "#### Curve Fitting with Log Functions in Linear Regression\n",
    "- A log transformation allows linear models to fit curves that are otherwise possible only with nonlinear regression.\n",
    "- For ex we can express the non linear function $Y = e^B0 X_1^B1 X_2^B2$ in the linear form as:\n",
    "$$\n",
    "Ln Y = B_0 + B_1lnX_1 + B_2lnX_2\n",
    "$$\n",
    "- A model can take logs on both sides on the equation, which is the double log form as in the equation above, or it can use a semi-log form, which is where you take the log of only one side.\n",
    "-If you take logs on the independent variable side of the model, it can be for all or a subset of the variables.\n",
    "- Using log transformations is a powerful method to fit curves. Choosing between a double-log or semi-log model depends on your data and subject area.\n",
    "- A semi-log model can fit curves that flatten as the independent variable increases."
   ]
  },
  {
   "cell_type": "code",
   "execution_count": 21,
   "metadata": {},
   "outputs": [
    {
     "name": "stderr",
     "output_type": "stream",
     "text": [
      "c:\\Users\\heena\\Desktop\\Learning_ML\\ml_env\\lib\\site-packages\\scipy\\stats\\_stats_py.py:1736: UserWarning: kurtosistest only valid for n>=20 ... continuing anyway, n=11\n",
      "  warnings.warn(\"kurtosistest only valid for n>=20 ... continuing \"\n"
     ]
    },
    {
     "data": {
      "text/html": [
       "<table class=\"simpletable\">\n",
       "<caption>OLS Regression Results</caption>\n",
       "<tr>\n",
       "  <th>Dep. Variable:</th>         <td>Output</td>      <th>  R-squared:         </th> <td>   0.986</td>\n",
       "</tr>\n",
       "<tr>\n",
       "  <th>Model:</th>                   <td>OLS</td>       <th>  Adj. R-squared:    </th> <td>   0.985</td>\n",
       "</tr>\n",
       "<tr>\n",
       "  <th>Method:</th>             <td>Least Squares</td>  <th>  F-statistic:       </th> <td>   648.2</td>\n",
       "</tr>\n",
       "<tr>\n",
       "  <th>Date:</th>             <td>Sat, 07 Oct 2023</td> <th>  Prob (F-statistic):</th> <td>1.07e-09</td>\n",
       "</tr>\n",
       "<tr>\n",
       "  <th>Time:</th>                 <td>08:28:02</td>     <th>  Log-Likelihood:    </th> <td> -8.2301</td>\n",
       "</tr>\n",
       "<tr>\n",
       "  <th>No. Observations:</th>      <td>    11</td>      <th>  AIC:               </th> <td>   20.46</td>\n",
       "</tr>\n",
       "<tr>\n",
       "  <th>Df Residuals:</th>          <td>     9</td>      <th>  BIC:               </th> <td>   21.26</td>\n",
       "</tr>\n",
       "<tr>\n",
       "  <th>Df Model:</th>              <td>     1</td>      <th>                     </th>     <td> </td>   \n",
       "</tr>\n",
       "<tr>\n",
       "  <th>Covariance Type:</th>      <td>nonrobust</td>    <th>                     </th>     <td> </td>   \n",
       "</tr>\n",
       "</table>\n",
       "<table class=\"simpletable\">\n",
       "<tr>\n",
       "         <td></td>            <th>coef</th>     <th>std err</th>      <th>t</th>      <th>P>|t|</th>  <th>[0.025</th>    <th>0.975]</th>  \n",
       "</tr>\n",
       "<tr>\n",
       "  <th>Intercept</th>       <td>    6.0993</td> <td>    0.418</td> <td>   14.590</td> <td> 0.000</td> <td>    5.154</td> <td>    7.045</td>\n",
       "</tr>\n",
       "<tr>\n",
       "  <th>np.log10(Input)</th> <td>   14.0646</td> <td>    0.552</td> <td>   25.460</td> <td> 0.000</td> <td>   12.815</td> <td>   15.314</td>\n",
       "</tr>\n",
       "</table>\n",
       "<table class=\"simpletable\">\n",
       "<tr>\n",
       "  <th>Omnibus:</th>       <td> 1.706</td> <th>  Durbin-Watson:     </th> <td>   0.785</td>\n",
       "</tr>\n",
       "<tr>\n",
       "  <th>Prob(Omnibus):</th> <td> 0.426</td> <th>  Jarque-Bera (JB):  </th> <td>   1.234</td>\n",
       "</tr>\n",
       "<tr>\n",
       "  <th>Skew:</th>          <td>-0.689</td> <th>  Prob(JB):          </th> <td>   0.539</td>\n",
       "</tr>\n",
       "<tr>\n",
       "  <th>Kurtosis:</th>      <td> 2.110</td> <th>  Cond. No.          </th> <td>    4.89</td>\n",
       "</tr>\n",
       "</table><br/><br/>Notes:<br/>[1] Standard Errors assume that the covariance matrix of the errors is correctly specified."
      ],
      "text/plain": [
       "<class 'statsmodels.iolib.summary.Summary'>\n",
       "\"\"\"\n",
       "                            OLS Regression Results                            \n",
       "==============================================================================\n",
       "Dep. Variable:                 Output   R-squared:                       0.986\n",
       "Model:                            OLS   Adj. R-squared:                  0.985\n",
       "Method:                 Least Squares   F-statistic:                     648.2\n",
       "Date:                Sat, 07 Oct 2023   Prob (F-statistic):           1.07e-09\n",
       "Time:                        08:28:02   Log-Likelihood:                -8.2301\n",
       "No. Observations:                  11   AIC:                             20.46\n",
       "Df Residuals:                       9   BIC:                             21.26\n",
       "Df Model:                           1                                         \n",
       "Covariance Type:            nonrobust                                         \n",
       "===================================================================================\n",
       "                      coef    std err          t      P>|t|      [0.025      0.975]\n",
       "-----------------------------------------------------------------------------------\n",
       "Intercept           6.0993      0.418     14.590      0.000       5.154       7.045\n",
       "np.log10(Input)    14.0646      0.552     25.460      0.000      12.815      15.314\n",
       "==============================================================================\n",
       "Omnibus:                        1.706   Durbin-Watson:                   0.785\n",
       "Prob(Omnibus):                  0.426   Jarque-Bera (JB):                1.234\n",
       "Skew:                          -0.689   Prob(JB):                        0.539\n",
       "Kurtosis:                       2.110   Cond. No.                         4.89\n",
       "==============================================================================\n",
       "\n",
       "Notes:\n",
       "[1] Standard Errors assume that the covariance matrix of the errors is correctly specified.\n",
       "\"\"\""
      ]
     },
     "execution_count": 21,
     "metadata": {},
     "output_type": "execute_result"
    }
   ],
   "source": [
    "# Fitting the model for semi-log linear regression\n",
    "log_model = ols(\"Output ~ np.log10(Input)\", data=curve_fitting_df).fit()\n",
    "log_model.summary()"
   ]
  },
  {
   "cell_type": "code",
   "execution_count": 24,
   "metadata": {},
   "outputs": [
    {
     "name": "stdout",
     "output_type": "stream",
     "text": [
      "Linear Regression using log model\n",
      "R-squared 0.9863058261134009\n",
      "R squared adj - 0.9847842512371121\n",
      "Standard error of Regression (RMSE) - 0.5652925105806911\n"
     ]
    }
   ],
   "source": [
    "print(\"Linear Regression using log model\")\n",
    "print(f\"R-squared {log_model.rsquared}\")\n",
    "print(f\"R squared adj - {log_model.rsquared_adj}\")\n",
    "print(f\"Standard error of Regression (RMSE) - {np.sqrt(log_model.mse_resid)}\")\n"
   ]
  },
  {
   "cell_type": "code",
   "execution_count": 23,
   "metadata": {},
   "outputs": [
    {
     "data": {
      "text/plain": [
       "[<matplotlib.lines.Line2D at 0x1cb3a01ea10>]"
      ]
     },
     "execution_count": 23,
     "metadata": {},
     "output_type": "execute_result"
    },
    {
     "data": {
      "image/png": "[encoded data removed]",
      "text/plain": [
       "<Figure size 640x480 with 1 Axes>"
      ]
     },
     "metadata": {},
     "output_type": "display_data"
    }
   ],
   "source": [
    "# Fitted line plot for semi-log linear regression\n",
    "m = log_model.params[\"np.log10(Input)\"]\n",
    "c = log_model.params[\"Intercept\"]\n",
    "plt.scatter(x=curve_fitting_df[\"Input\"], y=curve_fitting_df[\"Output\"])\n",
    "plt.plot(curve_fitting_df[\"Input\"], m * np.log10(curve_fitting_df[\"Input\"]) + c, color=\"red\")"
   ]
  },
  {
   "cell_type": "markdown",
   "metadata": {},
   "source": [
    "**Curve Fitting For Log Model**\n",
    "- Like the first quadratic model, the semi-log model also provides a biased fit to the data points.\n",
    "- Additionally, the S and R-squared values are also similar to the quadratic model.\n",
    "- The model with the quadratic reciprocal term, continues to provide the best fit."
   ]
  },
  {
   "cell_type": "markdown",
   "metadata": {},
   "source": [
    "#### Curve Fitting with Nonlinear Regression\n",
    "- While both Linear and Non Linear Regression models can fit curves, non linear regression is much more flexible in the shapes of curves that it can fit.\n",
    "- The general guideline is to use linear regression first to determine whether it can fit a particular type of curve in your data. If you can't obtain an adequate fit using one of the methods in linear regression, that's when you might need to choose non linear regression.\n",
    "- Nonlinear Regression can fit many more types of curves, but it can require more effort to find the best fit and to interpret the role of the independent variables.\n",
    "- Additionally, R-squared is not valid for nonlinear regression, and it is impossible to calculate p-values for the parameter estimates.\n",
    "- However, the standard error of regression (S) is valid for both linear and nonlinear regression and can be a great way to compare fits between these models.\n",
    "- A small standard error of regression indicates, that the data points are closer to the fitted values."
   ]
  },
  {
   "cell_type": "markdown",
   "metadata": {},
   "source": [
    "#### Comparing the Curve-Fitting Effectiveness of Different Models\n",
    "\n",
    "|Model                 | R-squared | S (RMSE) | Unbiased |\n",
    "|----------------------|-----------|----------|----------|\n",
    "| Reciprocal Quadratic | 99.9      | 0.138428 | Yes      |\n",
    "| Quadratic            | 99.0      | 0.518387 | No       |\n",
    "| Semi-log             | 98.6      | 0.565293 | No       |\n",
    "| Reciprocal Linear    | 90.4      | 1.49655  | No       |\n",
    "| Linear               | 84.0      | 1.93253  | No       |\n"
   ]
  },
  {
   "cell_type": "markdown",
   "metadata": {},
   "source": [
    "### Another Curve Fitting Example\n",
    "- Below is another example for fitting a curve using linear regression.\n",
    "- The goal is to develop an unbiased model\n",
    "- The data shows the relationship between density and electron mobility.\n",
    "- Here we will predict the mobility of electrons based on density, so Mobility is a dependent variable and density is an independent variable."
   ]
  },
  {
   "cell_type": "code",
   "execution_count": 25,
   "metadata": {},
   "outputs": [
    {
     "data": {
      "text/html": [
       "<div>\n",
       "<style scoped>\n",
       "    .dataframe tbody tr th:only-of-type {\n",
       "        vertical-align: middle;\n",
       "    }\n",
       "\n",
       "    .dataframe tbody tr th {\n",
       "        vertical-align: top;\n",
       "    }\n",
       "\n",
       "    .dataframe thead th {\n",
       "        text-align: right;\n",
       "    }\n",
       "</style>\n",
       "<table border=\"1\" class=\"dataframe\">\n",
       "  <thead>\n",
       "    <tr style=\"text-align: right;\">\n",
       "      <th></th>\n",
       "      <th>Mobility</th>\n",
       "      <th>Density Ln</th>\n",
       "    </tr>\n",
       "  </thead>\n",
       "  <tbody>\n",
       "    <tr>\n",
       "      <th>0</th>\n",
       "      <td>80.574</td>\n",
       "      <td>-3.067</td>\n",
       "    </tr>\n",
       "    <tr>\n",
       "      <th>1</th>\n",
       "      <td>84.248</td>\n",
       "      <td>-2.981</td>\n",
       "    </tr>\n",
       "    <tr>\n",
       "      <th>2</th>\n",
       "      <td>87.264</td>\n",
       "      <td>-2.921</td>\n",
       "    </tr>\n",
       "    <tr>\n",
       "      <th>3</th>\n",
       "      <td>87.195</td>\n",
       "      <td>-2.912</td>\n",
       "    </tr>\n",
       "    <tr>\n",
       "      <th>4</th>\n",
       "      <td>89.076</td>\n",
       "      <td>-2.840</td>\n",
       "    </tr>\n",
       "  </tbody>\n",
       "</table>\n",
       "</div>"
      ],
      "text/plain": [
       "   Mobility  Density Ln\n",
       "0    80.574      -3.067\n",
       "1    84.248      -2.981\n",
       "2    87.264      -2.921\n",
       "3    87.195      -2.912\n",
       "4    89.076      -2.840"
      ]
     },
     "execution_count": 25,
     "metadata": {},
     "output_type": "execute_result"
    }
   ],
   "source": [
    "# load the data\n",
    "electron_mobility_df = pd.read_csv(\"../../datasets/RegressionAnalysisDatasets/ElectronMobility.csv\")\n",
    "electron_mobility_df.head()"
   ]
  },
  {
   "cell_type": "code",
   "execution_count": 27,
   "metadata": {},
   "outputs": [
    {
     "data": {
      "text/plain": [
       "Text(0, 0.5, 'Mobility')"
      ]
     },
     "execution_count": 27,
     "metadata": {},
     "output_type": "execute_result"
    },
    {
     "data": {
      "image/png": "[encoded data removed]",
      "text/plain": [
       "<Figure size 640x480 with 1 Axes>"
      ]
     },
     "metadata": {},
     "output_type": "display_data"
    }
   ],
   "source": [
    "# scatter plot for visualizing the data \n",
    "plt.scatter(x=electron_mobility_df[\"Density Ln\"], \n",
    "            y=electron_mobility_df[\"Mobility\"])\n",
    "plt.xlabel(\"Density Ln\")\n",
    "plt.ylabel(\"Mobility\")"
   ]
  },
  {
   "cell_type": "markdown",
   "metadata": {},
   "source": [
    "**Fitting the Model**\n",
    "- As we can see from the scatterplot above, there are 2 bends in the data.\n",
    "- Therefore we will use a cubic equation to fit the model."
   ]
  },
  {
   "cell_type": "code",
   "execution_count": 31,
   "metadata": {},
   "outputs": [
    {
     "data": {
      "text/html": [
       "<table class=\"simpletable\">\n",
       "<caption>OLS Regression Results</caption>\n",
       "<tr>\n",
       "  <th>Dep. Variable:</th>        <td>Mobility</td>     <th>  R-squared:         </th> <td>   0.985</td>\n",
       "</tr>\n",
       "<tr>\n",
       "  <th>Model:</th>                   <td>OLS</td>       <th>  Adj. R-squared:    </th> <td>   0.983</td>\n",
       "</tr>\n",
       "<tr>\n",
       "  <th>Method:</th>             <td>Least Squares</td>  <th>  F-statistic:       </th> <td>   716.2</td>\n",
       "</tr>\n",
       "<tr>\n",
       "  <th>Date:</th>             <td>Sun, 08 Oct 2023</td> <th>  Prob (F-statistic):</th> <td>4.30e-30</td>\n",
       "</tr>\n",
       "<tr>\n",
       "  <th>Time:</th>                 <td>10:25:37</td>     <th>  Log-Likelihood:    </th> <td> -208.88</td>\n",
       "</tr>\n",
       "<tr>\n",
       "  <th>No. Observations:</th>      <td>    37</td>      <th>  AIC:               </th> <td>   425.8</td>\n",
       "</tr>\n",
       "<tr>\n",
       "  <th>Df Residuals:</th>          <td>    33</td>      <th>  BIC:               </th> <td>   432.2</td>\n",
       "</tr>\n",
       "<tr>\n",
       "  <th>Df Model:</th>              <td>     3</td>      <th>                     </th>     <td> </td>   \n",
       "</tr>\n",
       "<tr>\n",
       "  <th>Covariance Type:</th>      <td>nonrobust</td>    <th>                     </th>     <td> </td>   \n",
       "</tr>\n",
       "</table>\n",
       "<table class=\"simpletable\">\n",
       "<tr>\n",
       "             <td></td>                <th>coef</th>     <th>std err</th>      <th>t</th>      <th>P>|t|</th>  <th>[0.025</th>    <th>0.975]</th>  \n",
       "</tr>\n",
       "<tr>\n",
       "  <th>Intercept</th>               <td> 1242.5745</td> <td>   19.718</td> <td>   63.018</td> <td> 0.000</td> <td> 1202.459</td> <td> 1282.690</td>\n",
       "</tr>\n",
       "<tr>\n",
       "  <th>Density_Ln</th>              <td>  412.3245</td> <td>   20.285</td> <td>   20.327</td> <td> 0.000</td> <td>  371.055</td> <td>  453.594</td>\n",
       "</tr>\n",
       "<tr>\n",
       "  <th>np.power(Density_Ln, 2)</th> <td>  -94.2904</td> <td>    8.141</td> <td>  -11.582</td> <td> 0.000</td> <td> -110.854</td> <td>  -77.727</td>\n",
       "</tr>\n",
       "<tr>\n",
       "  <th>np.power(Density_Ln, 3)</th> <td>  -32.8999</td> <td>    4.260</td> <td>   -7.723</td> <td> 0.000</td> <td>  -41.567</td> <td>  -24.233</td>\n",
       "</tr>\n",
       "</table>\n",
       "<table class=\"simpletable\">\n",
       "<tr>\n",
       "  <th>Omnibus:</th>       <td> 2.901</td> <th>  Durbin-Watson:     </th> <td>   0.249</td>\n",
       "</tr>\n",
       "<tr>\n",
       "  <th>Prob(Omnibus):</th> <td> 0.234</td> <th>  Jarque-Bera (JB):  </th> <td>   2.028</td>\n",
       "</tr>\n",
       "<tr>\n",
       "  <th>Skew:</th>          <td>-0.386</td> <th>  Prob(JB):          </th> <td>   0.363</td>\n",
       "</tr>\n",
       "<tr>\n",
       "  <th>Kurtosis:</th>      <td> 2.152</td> <th>  Cond. No.          </th> <td>    27.1</td>\n",
       "</tr>\n",
       "</table><br/><br/>Notes:<br/>[1] Standard Errors assume that the covariance matrix of the errors is correctly specified."
      ],
      "text/plain": [
       "<class 'statsmodels.iolib.summary.Summary'>\n",
       "\"\"\"\n",
       "                            OLS Regression Results                            \n",
       "==============================================================================\n",
       "Dep. Variable:               Mobility   R-squared:                       0.985\n",
       "Model:                            OLS   Adj. R-squared:                  0.983\n",
       "Method:                 Least Squares   F-statistic:                     716.2\n",
       "Date:                Sun, 08 Oct 2023   Prob (F-statistic):           4.30e-30\n",
       "Time:                        10:25:37   Log-Likelihood:                -208.88\n",
       "No. Observations:                  37   AIC:                             425.8\n",
       "Df Residuals:                      33   BIC:                             432.2\n",
       "Df Model:                           3                                         \n",
       "Covariance Type:            nonrobust                                         \n",
       "===========================================================================================\n",
       "                              coef    std err          t      P>|t|      [0.025      0.975]\n",
       "-------------------------------------------------------------------------------------------\n",
       "Intercept                1242.5745     19.718     63.018      0.000    1202.459    1282.690\n",
       "Density_Ln                412.3245     20.285     20.327      0.000     371.055     453.594\n",
       "np.power(Density_Ln, 2)   -94.2904      8.141    -11.582      0.000    -110.854     -77.727\n",
       "np.power(Density_Ln, 3)   -32.8999      4.260     -7.723      0.000     -41.567     -24.233\n",
       "==============================================================================\n",
       "Omnibus:                        2.901   Durbin-Watson:                   0.249\n",
       "Prob(Omnibus):                  0.234   Jarque-Bera (JB):                2.028\n",
       "Skew:                          -0.386   Prob(JB):                        0.363\n",
       "Kurtosis:                       2.152   Cond. No.                         27.1\n",
       "==============================================================================\n",
       "\n",
       "Notes:\n",
       "[1] Standard Errors assume that the covariance matrix of the errors is correctly specified.\n",
       "\"\"\""
      ]
     },
     "execution_count": 31,
     "metadata": {},
     "output_type": "execute_result"
    }
   ],
   "source": [
    "# Rename the density column (else it will give error)\n",
    "electron_mobility_df.rename(columns={\"Density Ln\": \"Density_Ln\"}, inplace=True)\n",
    "\n",
    "# Fit the model\n",
    "e_mobility_cubic_model = ols(\"Mobility ~ Density_Ln + np.power(Density_Ln, 2) + np.power(Density_Ln, 3)\", data=electron_mobility_df).fit()\n",
    "e_mobility_cubic_model.summary()"
   ]
  }
 ],
 "metadata": {
  "kernelspec": {
   "display_name": "ml_env",
   "language": "python",
   "name": "python3"
  },
  "language_info": {
   "codemirror_mode": {
    "name": "ipython",
    "version": 3
   },
   "file_extension": ".py",
   "mimetype": "text/x-python",
   "name": "python",
   "nbconvert_exporter": "python",
   "pygments_lexer": "ipython3",
   "version": "3.10.11"
  },
  "orig_nbformat": 4
 },
 "nbformat": 4,
 "nbformat_minor": 2
}

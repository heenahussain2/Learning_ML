{
 "cells": [
  {
   "cell_type": "markdown",
   "metadata": {},
   "source": [
    "## Ordinary Least squares (OLS) Regression"
   ]
  },
  {
   "cell_type": "markdown",
   "metadata": {},
   "source": [
    "### Data considerations for OLS\n",
    "- To ensure that your results are valid for OLS linear regression, consider the following principles while collecting the data, performing the analysis and interpreting the results.\n",
    "- The independent variables can either be continuous or categorical.  \n",
    "    -> Continuous variables are usually measured on a scale and can take on any numerical form including fractional and decimal values.  \n",
    "    -> Categorical variables are values that can be put into countable distinct groups based on a characteristic.\n",
    "       \n",
    "- The dependent variable should be continuous. If its not we would have to use a different kind of regression analysis. "
   ]
  }
 ],
 "metadata": {
  "language_info": {
   "name": "python"
  },
  "orig_nbformat": 4
 },
 "nbformat": 4,
 "nbformat_minor": 2
}

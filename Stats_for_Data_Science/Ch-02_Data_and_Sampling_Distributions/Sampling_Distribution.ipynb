{
 "cells": [
  {
   "attachments": {},
   "cell_type": "markdown",
   "metadata": {},
   "source": [
    "## Sampling Distribution of a Statistic\n",
    "    -> The term sampling distrubution of a statistic refers to the distribution of some sample statistic over many samples drawn from the same population\n",
    "\n",
    "### Sample statistic\n",
    "    -> A metric calculated for a sample of data drawn from a larger population.\n",
    "    -> Ex: sum , mean, median ..\n",
    "    -> The distribution of a sample statistic such as the mean is likely to be bell shaped than the distribution of the data itself.\n",
    "    -> The larger the sample, the narrower the distribution of the sample statistic."
   ]
  },
  {
   "attachments": {},
   "cell_type": "markdown",
   "metadata": {},
   "source": [
    "### Central Limit Theorem\n",
    "    -> The central limit theorem states that if you take sufficiently large random samples from the population (with replalcement), then the distribution of the sample means will be normally distributed or bell shaped.\n",
    "    -> This holds true even if the population is not normally distributed.\n",
    "    -> With respect to data science, the central limit theorem is not much used as hypothesis testing and confidence intervals play a small role in Datascience.\n",
    "    \n",
    "#### Detailed Reference\n",
    "     https://sphweb.bumc.bu.edu/otlt/mph-modules/bs/bs704_probability/BS704_Probability12.html\n",
    "     https://en.wikipedia.org/wiki/Central_limit_theorem\n",
    "     https://www.scribbr.com/statistics/central-limit-theorem/\n",
    "     https://www.youtube.com/watch?v=zeJD6dqJ5lo"
   ]
  },
  {
   "attachments": {},
   "cell_type": "markdown",
   "metadata": {},
   "source": [
    "### Standard Error\n",
    "    -> The standard error is a single metric that sums up the variability in the sampling distribution for a statistic.\n",
    "    -> It is measured based on the standard deviation s of the sample values.\n",
    "\n",
    "$$\n",
    "Standard Error = SE = \\frac{s}{\\sqrt{n}}\n",
    "$$\n",
    "\n",
    "    -> As the sample size increases, the standard error decreases.\n",
    "    -> The reslationship b/w standard error and sample size is referred to as - square root of n rule (to decrease SE by a factor of 2, the sample size must be incresed by a factor of 4)\n",
    "    -> Following is the approach to calculate SE:\n",
    "        1. Collect a number of brand-new samples from the population.\n",
    "        2. for each new sample calculate the statistic (eg: mean)\n",
    "        3. Calculate the standard deviation of the statistics computed in step 2; use this as the estimate of standard error\n",
    "\n",
    "    -> In modern statistics, the bootstrap has become the standard way to estimate standard error.\n",
    "    -> It can be used for any statistic and does not rely on the central limit theorem or other distributional assumptions.\n",
    "\n",
    "### NOTE \n",
    "    Donot confuse these\n",
    "    -> Standard Deviation - measures the variability of individual data points.\n",
    "    -> Standard Error - measures the variability of a sample metric (eg - mean)\n",
    "    \n",
    "### Further Reading \n",
    "    https://onlinestatbook.com/stat_sim/sampling_dist/"
   ]
  },
  {
   "cell_type": "markdown",
   "metadata": {},
   "source": []
  }
 ],
 "metadata": {
  "language_info": {
   "name": "python"
  },
  "orig_nbformat": 4
 },
 "nbformat": 4,
 "nbformat_minor": 2
}

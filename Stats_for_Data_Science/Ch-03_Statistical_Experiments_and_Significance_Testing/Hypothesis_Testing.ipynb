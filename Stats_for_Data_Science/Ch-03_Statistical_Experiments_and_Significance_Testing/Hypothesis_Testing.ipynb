{
 "cells": [
  {
   "cell_type": "markdown",
   "metadata": {},
   "source": [
    "## Statistical Experiments and Significance Testing"
   ]
  },
  {
   "cell_type": "markdown",
   "metadata": {},
   "source": [
    "### Overview\n",
    "- Design of experiments is a cornerstone of the practice of statistics, with applications in virtually all areas of research.\n",
    "- The goal is to design an experiment in order to confirm or reject a hypothesis.\n",
    "\n",
    "### Statistical Inference Pipeline\n",
    "- This process starts with a hypothesis (A is better than B).\n",
    "- Then an experiment is designed to test the hypothesis, dsigned in a way as to give conclusive results.\n",
    "- The data is collected, analyzed and then a conclusion is drawn.\n",
    "\n",
    "Formulate Hypothesis --> Design Experiment --> Collect Data --> Inference/Conclusions"
   ]
  },
  {
   "cell_type": "markdown",
   "metadata": {},
   "source": [
    "### A/B Testing\n",
    "- A/B test is an experiment for two groups that is designed to determine which of the two things is better.\n",
    "- It can be either a treatment or a new drug or clicks for a website.\n",
    "- An A/B test has subjects that can be assigned to one group or another and ideally the subjects are ssigned randomly to treatments.\n",
    "\n",
    "#### How does A/B test work\n",
    "- An A/B test can be started with - what it is you want to test?\n",
    "- It can be size of a subscribe button, or layout of a website to sell a particular product.\n",
    "- The A/B test can be considered as the most basic kind of randomized experiment.\n",
    "- A/B testing in data science is typically used in a web context. Treatments might be the design of a web page, the price of a product or something else.\n",
    "- Typically the subject in the experiment is the web visitor, and the outcomes we are interested in measuring are clicks, purchases, amount of time visited, number of pages visited etc.\n",
    "- In a standard A/B test, you need to decide on one metric ahead of time.\n",
    "\n",
    "### Further Reading\n",
    "    https://hbr.org/2017/06/a-refresher-on-ab-testing"
   ]
  },
  {
   "cell_type": "markdown",
   "metadata": {},
   "source": [
    "### Hypothesis Tests\n",
    "- Hypothesis test also called significance tests are used to assess the plausibilty of a hypothesis by using sample data.\n",
    "- Their purpose is to help you learn whether random chance is responsible for an observed effect.\n",
    "- The four steps of hypothesis testing include stating the hypotheses, formulating an analysis plan, analyzing the sample data, and analyzing the result.\n",
    "\n",
    "### Null Hypothesis\n",
    "- A null hypothesis is a type of statistical hypothesis that proposes that there is no statistical significance between a given set of observations.\n",
    "- It involves a baseline assumption that two treatments are equivalent, and any difference between the groups is due to chance. This baseline assumption is referred as null hypothesis.\n",
    "- The alternative hypothesis proposes that there is a difference.\n",
    "- Hypothesis testing provides a way to reject the null hypothesis with a certain level of confidence and to accept the alternate hypothesis."
   ]
  },
  {
   "cell_type": "markdown",
   "metadata": {},
   "source": [
    "### Resampling\n",
    "- Resampling in statistics means to repeatedly sample values from observed data, with a general goal of assessing random variability in a statistic.\n",
    "- There are two main types of sampling procedures \n",
    "    1. The bootstrap\n",
    "    2. Permutation Tests\n",
    "\n",
    "#### Permutation Tests\n",
    "- Permutation tests are used to test hypothesis typically involving two or more groups, typically the groups in an A/B test or other hypothesis test"
   ]
  },
  {
   "cell_type": "code",
   "execution_count": null,
   "metadata": {},
   "outputs": [],
   "source": []
  }
 ],
 "metadata": {
  "language_info": {
   "name": "python"
  },
  "orig_nbformat": 4
 },
 "nbformat": 4,
 "nbformat_minor": 2
}
